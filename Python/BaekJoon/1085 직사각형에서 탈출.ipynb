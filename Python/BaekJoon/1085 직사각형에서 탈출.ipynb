{
 "cells": [
  {
   "cell_type": "markdown",
   "id": "188f4f82",
   "metadata": {},
   "source": [
    "https://www.acmicpc.net/problem/1085"
   ]
  },
  {
   "cell_type": "code",
   "execution_count": null,
   "id": "07348f39",
   "metadata": {},
   "outputs": [],
   "source": [
    "#1085 직사각형에서 탈출\n",
    "\n",
    "# Read the values of x, y, w, and h from input\n",
    "x, y, w, h = map(int, input().split())\n",
    "\n",
    "# Calculate the minimum distance to each of the rectangle's sides or corners\n",
    "# The options are: distance to right side (w-x), distance to top side (h-y),\n",
    "# distance to left side (x-0), distance to bottom side (y-0)\n",
    "# The result will be the smallest of these distances\n",
    "min_distance = min(w-x, h-y, x-0, y-0)\n",
    "\n",
    "# Print the minimum distance\n",
    "print(min_distance)"
   ]
  }
 ],
 "metadata": {
  "kernelspec": {
   "display_name": "Python 3 (ipykernel)",
   "language": "python",
   "name": "python3"
  },
  "language_info": {
   "codemirror_mode": {
    "name": "ipython",
    "version": 3
   },
   "file_extension": ".py",
   "mimetype": "text/x-python",
   "name": "python",
   "nbconvert_exporter": "python",
   "pygments_lexer": "ipython3",
   "version": "3.9.7"
  }
 },
 "nbformat": 4,
 "nbformat_minor": 5
}
