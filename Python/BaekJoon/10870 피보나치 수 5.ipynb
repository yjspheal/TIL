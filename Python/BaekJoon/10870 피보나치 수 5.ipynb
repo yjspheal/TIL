{
 "cells": [
  {
   "cell_type": "markdown",
   "id": "7b854ba1",
   "metadata": {},
   "source": [
    "https://www.acmicpc.net/problem/1559610870"
   ]
  },
  {
   "cell_type": "code",
   "execution_count": null,
   "id": "5eaae194",
   "metadata": {},
   "outputs": [
    {
     "name": "stdout",
     "output_type": "stream",
     "text": [
      "0\n",
      "0\n"
     ]
    }
   ],
   "source": [
    "#10870 피보나치 수 5\n",
    "\n",
    "fa=0\n",
    "fb=1\n",
    "\n",
    "n = int(input())\n",
    "\n",
    "if n == 0:\n",
    "    print(0)\n",
    "else:\n",
    "    for i in range(n):\n",
    "        fc = fa + fb\n",
    "        fa, fb = fc, fa\n",
    "    print(fc)"
   ]
  }
 ],
 "metadata": {
  "kernelspec": {
   "display_name": "Python 3 (ipykernel)",
   "language": "python",
   "name": "python3"
  },
  "language_info": {
   "codemirror_mode": {
    "name": "ipython",
    "version": 3
   },
   "file_extension": ".py",
   "mimetype": "text/x-python",
   "name": "python",
   "nbconvert_exporter": "python",
   "pygments_lexer": "ipython3",
   "version": "3.9.7"
  }
 },
 "nbformat": 4,
 "nbformat_minor": 5
}
