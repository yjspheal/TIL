{
 "cells": [
  {
   "cell_type": "markdown",
   "id": "7b854ba1",
   "metadata": {},
   "source": [
    "https://www.acmicpc.net/problem/2893"
   ]
  },
  {
   "cell_type": "code",
   "execution_count": null,
   "id": "41c167f9",
   "metadata": {},
   "outputs": [],
   "source": [
    "#2893 설탕 배달\n",
    "\n",
    "N = int(input())\n",
    "\n",
    "def nanugi(N):\n",
    "    for i in [0,3,6,9,12]:\n",
    "        if (N - i) % 5 == 0:\n",
    "            return i\n",
    "    return False\n",
    "    \n",
    "\n",
    "if N < 15 and N % 3 == 0:\n",
    "    print(N // 3)\n",
    "elif N % 5 == 0:\n",
    "    print(N // 5)\n",
    "elif N > 7 and nanugi(N) != False:\n",
    "    mini = nanugi(N) // 3\n",
    "    big = (N - nanugi(N)) // 5\n",
    "    print(mini+big)\n",
    "else:\n",
    "    print(-1)"
   ]
  }
 ],
 "metadata": {
  "kernelspec": {
   "display_name": "Python 3 (ipykernel)",
   "language": "python",
   "name": "python3"
  },
  "language_info": {
   "codemirror_mode": {
    "name": "ipython",
    "version": 3
   },
   "file_extension": ".py",
   "mimetype": "text/x-python",
   "name": "python",
   "nbconvert_exporter": "python",
   "pygments_lexer": "ipython3",
   "version": "3.9.7"
  }
 },
 "nbformat": 4,
 "nbformat_minor": 5
}
