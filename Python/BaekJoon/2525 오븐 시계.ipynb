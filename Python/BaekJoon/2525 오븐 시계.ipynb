{
 "cells": [
  {
   "cell_type": "markdown",
   "id": "7b854ba1",
   "metadata": {},
   "source": [
    "https://www.acmicpc.net/problem/2525"
   ]
  },
  {
   "cell_type": "code",
   "execution_count": null,
   "id": "41c167f9",
   "metadata": {},
   "outputs": [],
   "source": [
    "#2525 오븐 시계\n",
    "hour, minu = map(int,input().split())\n",
    "time = int(input())\n",
    "\n",
    "add_h = time // 60\n",
    "add_m = time % 60\n",
    "\n",
    "if add_m + minu >= 60:\n",
    "    add_h += 1\n",
    "    add_m -= 60\n",
    "    \n",
    "fin_h = (hour + add_h) % 24\n",
    "fin_m = minu + add_m\n",
    "\n",
    "print(fin_h, fin_m)"
   ]
  }
 ],
 "metadata": {
  "kernelspec": {
   "display_name": "Python 3 (ipykernel)",
   "language": "python",
   "name": "python3"
  },
  "language_info": {
   "codemirror_mode": {
    "name": "ipython",
    "version": 3
   },
   "file_extension": ".py",
   "mimetype": "text/x-python",
   "name": "python",
   "nbconvert_exporter": "python",
   "pygments_lexer": "ipython3",
   "version": "3.9.7"
  }
 },
 "nbformat": 4,
 "nbformat_minor": 5
}
