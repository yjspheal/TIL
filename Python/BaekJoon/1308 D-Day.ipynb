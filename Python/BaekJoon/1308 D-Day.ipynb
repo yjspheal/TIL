{
 "cells": [
  {
   "cell_type": "markdown",
   "id": "7b854ba1",
   "metadata": {},
   "source": [
    "https://www.acmicpc.net/problem/1308"
   ]
  },
  {
   "cell_type": "code",
   "execution_count": null,
   "id": "41c167f9",
   "metadata": {},
   "outputs": [],
   "source": [
    "#1308 D-Day\n",
    "\n",
    "def yun_check(year):\n",
    "    if year %  400 == 0:\n",
    "        return True\n",
    "    \n",
    "    elif year % 100 == 0:\n",
    "        return  False\n",
    "    \n",
    "    elif year % 4 == 0:\n",
    "        return True\n",
    "    \n",
    "    else:\n",
    "        return False\n",
    "\n",
    "sy, sm, sd = map(int, input().split())\n",
    "ey, em, ed = map(int, input().split())\n",
    "\n",
    "\n",
    "def day_cal(y1, m1, d1, y2, m2, d2):\n",
    "    days = [31, 28, 31, 30, 31, 30, 31, 31, 30, 31, 30, 31]\n",
    "    dday = 0\n",
    "    \n",
    "    if yun_check(y1) == True:                   # 월, 일자 계산\n",
    "        days[1] = 29\n",
    "        day1 = sum(days[0 : m1-1]) + d1\n",
    "        days[1] = 28\n",
    "    else:\n",
    "        day1 = sum(days[0 : m1-1]) + d1\n",
    "        \n",
    "        \n",
    "    if yun_check(y2) == True:\n",
    "        days[1] = 29\n",
    "        day2 = sum(days[0 : m2-1]) + d2\n",
    "        days[1] = 28\n",
    "    else:\n",
    "        day2 = sum(days[0 : m2-1]) + d2\n",
    "        \n",
    "    \n",
    "    if yun_check(y1) == True:\n",
    "        dday += (366 - day1) + day2\n",
    "    else:\n",
    "        dday += (365 - day1) + day2         \n",
    "    \n",
    "    \n",
    "    if y2 > y1 + 1000 or y2 == y1 + 1000 and day2 >= day1:\n",
    "        return 'gg'\n",
    "    \n",
    "    for y in range(y1 + 1, y2):\n",
    "        if yun_check(y) == True:\n",
    "            dday += 366\n",
    "        else:\n",
    "            dday += 365\n",
    "        \n",
    "    return dday\n",
    "\n",
    "result = day_cal(sy, sm, sd, ey, em, ed)\n",
    "\n",
    "if result == 'gg':\n",
    "    print('gg')\n",
    "else:\n",
    "    print(f'D-{result}')"
   ]
  },
  {
   "cell_type": "code",
   "execution_count": null,
   "id": "257a8bce",
   "metadata": {},
   "outputs": [
    {
     "name": "stdout",
     "output_type": "stream",
     "text": [
      "2000 10 21\n",
      "2008 3 28\n",
      "D-2715\n"
     ]
    }
   ],
   "source": [
    "import datetime\n",
    "\n",
    "this_year,this_month,this_day = map(int,input().split())\n",
    "d_year,d_month,d_day = map(int,input().split())\n",
    "\n",
    "today = datetime.datetime(this_year,this_month,this_day)\n",
    "target_day = datetime.datetime(d_year,d_month,d_day)\n",
    "\n",
    "dday=target_day - today\n",
    "\n",
    "if dday.days >=365243:\n",
    "  print(\"gg\")\n",
    "else:\n",
    "  print(\"D-\"+str(dday.days))"
   ]
  }
 ],
 "metadata": {
  "kernelspec": {
   "display_name": "Python 3 (ipykernel)",
   "language": "python",
   "name": "python3"
  },
  "language_info": {
   "codemirror_mode": {
    "name": "ipython",
    "version": 3
   },
   "file_extension": ".py",
   "mimetype": "text/x-python",
   "name": "python",
   "nbconvert_exporter": "python",
   "pygments_lexer": "ipython3",
   "version": "3.9.7"
  }
 },
 "nbformat": 4,
 "nbformat_minor": 5
}
