{
 "cells": [
  {
   "cell_type": "markdown",
   "id": "7b854ba1",
   "metadata": {},
   "source": [
    "https://www.acmicpc.net/problem/2609"
   ]
  },
  {
   "cell_type": "code",
   "execution_count": null,
   "id": "9f93dbf0",
   "metadata": {},
   "outputs": [
    {
     "name": "stdout",
     "output_type": "stream",
     "text": [
      "24 18\n",
      "6.0\n",
      "72\n"
     ]
    }
   ],
   "source": [
    "#2609 최대공약수와 최소공배수\n",
    "\n",
    "n1, n2 = map(int,input().split())\n",
    "mult1 = 0\n",
    "while True:\n",
    "    mult1 += 1\n",
    "    if (n1 * mult1) % n2 == 0:\n",
    "        break\n",
    "\n",
    "LCM = n1 * mult1\n",
    "GCD = int(n2 / mult1)\n",
    "print(GCD)\n",
    "print(LCM)"
   ]
  }
 ],
 "metadata": {
  "kernelspec": {
   "display_name": "Python 3 (ipykernel)",
   "language": "python",
   "name": "python3"
  },
  "language_info": {
   "codemirror_mode": {
    "name": "ipython",
    "version": 3
   },
   "file_extension": ".py",
   "mimetype": "text/x-python",
   "name": "python",
   "nbconvert_exporter": "python",
   "pygments_lexer": "ipython3",
   "version": "3.9.7"
  }
 },
 "nbformat": 4,
 "nbformat_minor": 5
}
