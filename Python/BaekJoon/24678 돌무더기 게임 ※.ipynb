{
 "cells": [
  {
   "cell_type": "markdown",
   "id": "7b854ba1",
   "metadata": {},
   "source": [
    "https://www.acmicpc.net/problem/24678"
   ]
  },
  {
   "cell_type": "code",
   "execution_count": null,
   "id": "41c167f9",
   "metadata": {},
   "outputs": [],
   "source": [
    "#24678 돌무더기 게임 ※\n",
    "import sys\n",
    "\n",
    "N = int(input())\n",
    "result = []\n",
    "     \n",
    "def find_win(nums):\n",
    "    a = 0\n",
    "    while True:\n",
    "        a += 1\n",
    "        nums[2] -= 1; nums[0] -= 1; nums[1] += 1\n",
    "        nums = sorted(nums)\n",
    "        if nums[0] == 0 and nums[1] > 0:\n",
    "            a += 1\n",
    "            nums[2] -= 1; nums[1] -= 1; nums[0] += 1\n",
    "            nums = sorted(nums)\n",
    "        if nums[1] == 0:\n",
    "            return a % 2\n",
    "        \n",
    "for i in range(N):\n",
    "    n = list(map(int,sys.stdin.readline().split()))\n",
    "    n = sorted(n)\n",
    "    result.append(find_win(n))\n",
    "        \n",
    "for r in result:\n",
    "    if r == 1:\n",
    "        print(\"B\")\n",
    "    else:\n",
    "        print(\"R\")\n",
    "    "
   ]
  }
 ],
 "metadata": {
  "kernelspec": {
   "display_name": "Python 3 (ipykernel)",
   "language": "python",
   "name": "python3"
  },
  "language_info": {
   "codemirror_mode": {
    "name": "ipython",
    "version": 3
   },
   "file_extension": ".py",
   "mimetype": "text/x-python",
   "name": "python",
   "nbconvert_exporter": "python",
   "pygments_lexer": "ipython3",
   "version": "3.9.7"
  }
 },
 "nbformat": 4,
 "nbformat_minor": 5
}
