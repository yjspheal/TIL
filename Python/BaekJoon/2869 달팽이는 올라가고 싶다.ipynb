{
 "cells": [
  {
   "cell_type": "markdown",
   "id": "7b854ba1",
   "metadata": {},
   "source": [
    "https://www.acmicpc.net/problem/2869"
   ]
  },
  {
   "cell_type": "code",
   "execution_count": null,
   "id": "41c167f9",
   "metadata": {},
   "outputs": [],
   "source": [
    "#2869 달팽이는 올라가고 싶다\n",
    "\n",
    "A, B, V = map(int,input().split())\n",
    "\n",
    "day = 1\n",
    "height = A\n",
    "if A == V:\n",
    "    pass\n",
    "elif (V - A) % (A - B):\n",
    "    day += (V - A) // (A - B) + 1\n",
    "else:\n",
    "    day += (V - A) // (A - B) \n",
    "print(day)"
   ]
  }
 ],
 "metadata": {
  "kernelspec": {
   "display_name": "Python 3 (ipykernel)",
   "language": "python",
   "name": "python3"
  },
  "language_info": {
   "codemirror_mode": {
    "name": "ipython",
    "version": 3
   },
   "file_extension": ".py",
   "mimetype": "text/x-python",
   "name": "python",
   "nbconvert_exporter": "python",
   "pygments_lexer": "ipython3",
   "version": "3.9.7"
  }
 },
 "nbformat": 4,
 "nbformat_minor": 5
}
