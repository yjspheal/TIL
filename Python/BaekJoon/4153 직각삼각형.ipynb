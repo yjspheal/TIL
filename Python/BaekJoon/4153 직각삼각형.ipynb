{
 "cells": [
  {
   "cell_type": "markdown",
   "id": "7b854ba1",
   "metadata": {},
   "source": [
    "https://www.acmicpc.net/problem/4153"
   ]
  },
  {
   "cell_type": "code",
   "execution_count": null,
   "id": "41c167f9",
   "metadata": {},
   "outputs": [],
   "source": [
    "#4153 직각삼각형\n",
    "res = []\n",
    "\n",
    "while True:\n",
    "    lengths = list(map(int,input().split()))\n",
    "    if lengths == [0,0,0]:\n",
    "        break\n",
    "    else:\n",
    "        lengths = sorted(lengths)\n",
    "\n",
    "        if lengths[2]**2 == lengths[1]**2 + lengths[0]**2:\n",
    "            res.append(\"right\")\n",
    "        else:\n",
    "            res.append(\"wrong\")\n",
    "            \n",
    "for r in res:\n",
    "    print(r)"
   ]
  }
 ],
 "metadata": {
  "kernelspec": {
   "display_name": "Python 3 (ipykernel)",
   "language": "python",
   "name": "python3"
  },
  "language_info": {
   "codemirror_mode": {
    "name": "ipython",
    "version": 3
   },
   "file_extension": ".py",
   "mimetype": "text/x-python",
   "name": "python",
   "nbconvert_exporter": "python",
   "pygments_lexer": "ipython3",
   "version": "3.9.7"
  }
 },
 "nbformat": 4,
 "nbformat_minor": 5
}
