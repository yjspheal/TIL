{
 "cells": [
  {
   "cell_type": "markdown",
   "id": "6073057d",
   "metadata": {},
   "source": [
    "https://www.acmicpc.net/problem/1712"
   ]
  },
  {
   "cell_type": "code",
   "execution_count": null,
   "id": "9286cc07",
   "metadata": {},
   "outputs": [],
   "source": [
    "#1712 손익분기점\n",
    "\n",
    "# Get input for fixed, unfixed, and final prices\n",
    "fixed_p, unfixed_p, final_p = input(\"Enter fixed, unfixed, and final prices: \").split()\n",
    "\n",
    "# Function to find the Break-Even Point (BEP)\n",
    "def find_BEP(fix, unf, fin):\n",
    "    if unf >= fin:\n",
    "        return -1  # Unfixed price is greater or equal to final price, no BEP\n",
    "    else:\n",
    "        # Calculate the initial sales needed to break even\n",
    "        sales = int(fix / (fin - unf))\n",
    "        \n",
    "        # Increment sales until profit is non-negative\n",
    "        while fix + sales * unf - sales * fin >= 0:\n",
    "            sales += 1 \n",
    "        \n",
    "        return sales\n",
    "\n",
    "# Call the function and print the result\n",
    "print(\"Break-Even Point:\", find_BEP(int(fixed_p), int(unfixed_p), int(final_p)))\n"
   ]
  }
 ],
 "metadata": {
  "kernelspec": {
   "display_name": "Python 3 (ipykernel)",
   "language": "python",
   "name": "python3"
  },
  "language_info": {
   "codemirror_mode": {
    "name": "ipython",
    "version": 3
   },
   "file_extension": ".py",
   "mimetype": "text/x-python",
   "name": "python",
   "nbconvert_exporter": "python",
   "pygments_lexer": "ipython3",
   "version": "3.9.7"
  }
 },
 "nbformat": 4,
 "nbformat_minor": 5
}
