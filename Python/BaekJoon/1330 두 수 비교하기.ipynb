{
 "cells": [
  {
   "cell_type": "markdown",
   "id": "0a1753f0",
   "metadata": {},
   "source": [
    "https://www.acmicpc.net/problem/1330"
   ]
  },
  {
   "cell_type": "code",
   "execution_count": null,
   "id": "afe22c59",
   "metadata": {},
   "outputs": [],
   "source": [
    "#1330 두 수 비교하기\n",
    "\n",
    "# Read two integers separated by space from input\n",
    "a, b = map(int, input().split())\n",
    "\n",
    "# Compare the values of a and b\n",
    "if a < b:\n",
    "    print(\"<\")  # If a is less than b, print \"<\"\n",
    "elif a > b:\n",
    "    print(\">\")  # If a is greater than b, print \">\"\n",
    "else:\n",
    "    print(\"==\")  # If a is equal to b, print \"==\""
   ]
  }
 ],
 "metadata": {
  "kernelspec": {
   "display_name": "Python 3 (ipykernel)",
   "language": "python",
   "name": "python3"
  },
  "language_info": {
   "codemirror_mode": {
    "name": "ipython",
    "version": 3
   },
   "file_extension": ".py",
   "mimetype": "text/x-python",
   "name": "python",
   "nbconvert_exporter": "python",
   "pygments_lexer": "ipython3",
   "version": "3.9.7"
  }
 },
 "nbformat": 4,
 "nbformat_minor": 5
}
