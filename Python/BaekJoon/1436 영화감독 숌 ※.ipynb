{
 "cells": [
  {
   "cell_type": "markdown",
   "id": "7b854ba1",
   "metadata": {},
   "source": [
    "https://www.acmicpc.net/problem/1436"
   ]
  },
  {
   "cell_type": "code",
   "execution_count": null,
   "id": "41c167f9",
   "metadata": {},
   "outputs": [],
   "source": [
    "#1436 영화감독 숌 ※\n",
    "\n",
    "jongmal = []\n",
    "\n",
    "666 1개\n",
    "\n",
    "1666 2666 3666 4666 5666  7666 8666 9666      8개\n",
    "6660 6661 6662 6663 6664 6665 6666 6667 6668 6669         10개 \n",
    "\n",
    "10666 *(1 + 18) * 8\n",
    "66600       100개\n",
    "\n",
    "def find_jongmal(n):\n",
    "    keypt = [8]\n",
    "    tens = 1\n",
    "    while keypt[-1] <= 10000:\n",
    "        tens *= 10\n",
    "        keypt[-1] = sum(keypt)*8 + tens\n",
    "    print(keypt)\n",
    "    \n",
    "\n",
    "    "
   ]
  }
 ],
 "metadata": {
  "kernelspec": {
   "display_name": "Python 3 (ipykernel)",
   "language": "python",
   "name": "python3"
  },
  "language_info": {
   "codemirror_mode": {
    "name": "ipython",
    "version": 3
   },
   "file_extension": ".py",
   "mimetype": "text/x-python",
   "name": "python",
   "nbconvert_exporter": "python",
   "pygments_lexer": "ipython3",
   "version": "3.9.7"
  }
 },
 "nbformat": 4,
 "nbformat_minor": 5
}
