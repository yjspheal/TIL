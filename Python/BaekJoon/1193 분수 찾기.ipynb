{
 "cells": [
  {
   "cell_type": "markdown",
   "id": "7b854ba1",
   "metadata": {},
   "source": [
    "https://www.acmicpc.net/problem/1193"
   ]
  },
  {
   "cell_type": "code",
   "execution_count": null,
   "id": "41c167f9",
   "metadata": {},
   "outputs": [],
   "source": [
    "# 1193 분수 찾기\n",
    "\n",
    "N = int(input())\n",
    "a = N\n",
    "count = 0\n",
    "time = 0\n",
    "while 1:\n",
    "    time += 1\n",
    "    count += 1\n",
    "    N -= count\n",
    "    \n",
    "    if N >= 0 and N <= count + 1:\n",
    "        break\n",
    "        \n",
    "if time % 2 == 0:\n",
    "    print(f'{time - N + 2}/{N}')\n",
    "else:\n",
    "    if a == 1:\n",
    "        print('1/1')\n",
    "    else:\n",
    "        print(f'{N}/{time - N+2}')"
   ]
  }
 ],
 "metadata": {
  "kernelspec": {
   "display_name": "Python 3 (ipykernel)",
   "language": "python",
   "name": "python3"
  },
  "language_info": {
   "codemirror_mode": {
    "name": "ipython",
    "version": 3
   },
   "file_extension": ".py",
   "mimetype": "text/x-python",
   "name": "python",
   "nbconvert_exporter": "python",
   "pygments_lexer": "ipython3",
   "version": "3.9.7"
  }
 },
 "nbformat": 4,
 "nbformat_minor": 5
}
