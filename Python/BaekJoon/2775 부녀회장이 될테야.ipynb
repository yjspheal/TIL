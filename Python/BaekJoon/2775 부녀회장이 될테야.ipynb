{
 "cells": [
  {
   "cell_type": "markdown",
   "id": "7b854ba1",
   "metadata": {},
   "source": [
    "https://www.acmicpc.net/problem/2775"
   ]
  },
  {
   "cell_type": "code",
   "execution_count": null,
   "id": "1536f1fa",
   "metadata": {},
   "outputs": [
    {
     "name": "stdout",
     "output_type": "stream",
     "text": [
      "2\n",
      "1\n",
      "3\n",
      "2\n",
      "3\n",
      "6\n",
      "10\n"
     ]
    }
   ],
   "source": [
    "#2775 부녀회장이 될테야\n",
    "\n",
    "n = int(input())\n",
    "\n",
    "def find_members(f, r):\n",
    "    floor = 1\n",
    "    mems = list(range(1,r+1))\n",
    "    while floor <= f:\n",
    "        for i in range(1,r):\n",
    "            mems[i] = mems[i-1] + mems[i]\n",
    "        floor += 1\n",
    "    return mems[-1]\n",
    "\n",
    "members = []\n",
    "for i in range(n):\n",
    "    floor = int(input())\n",
    "    room = int(input())\n",
    "    members.append(find_members(floor,room))\n",
    "    \n",
    "for mem in members:\n",
    "    print(mem)"
   ]
  }
 ],
 "metadata": {
  "kernelspec": {
   "display_name": "Python 3 (ipykernel)",
   "language": "python",
   "name": "python3"
  },
  "language_info": {
   "codemirror_mode": {
    "name": "ipython",
    "version": 3
   },
   "file_extension": ".py",
   "mimetype": "text/x-python",
   "name": "python",
   "nbconvert_exporter": "python",
   "pygments_lexer": "ipython3",
   "version": "3.9.7"
  }
 },
 "nbformat": 4,
 "nbformat_minor": 5
}
