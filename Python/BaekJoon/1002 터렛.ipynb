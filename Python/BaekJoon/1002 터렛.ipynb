{
 "cells": [
  {
   "cell_type": "markdown",
   "id": "765fbf5a",
   "metadata": {},
   "source": [
    "https://www.acmicpc.net/problem/1002"
   ]
  },
  {
   "cell_type": "code",
   "execution_count": null,
   "id": "950134e3",
   "metadata": {},
   "outputs": [],
   "source": [
    "#1002 터렛\n",
    "from math import sqrt\n",
    "\n",
    "result = []  # List to store results\n",
    "\n",
    "N = int(input())  # Number of test cases\n",
    "\n",
    "for i in range(N):\n",
    "    x1, y1, r1, x2, y2, r2 = map(int, input().split())  # Input coordinates and radii of two circles\n",
    "\n",
    "    distance = sqrt((x2 - x1) ** 2 + (y2 - y1) ** 2)  # Calculate distance between circle centers\n",
    "    marine = r1 + r2  # Sum of the radii of the two circles\n",
    "\n",
    "    # Cases where circles are externally tangent or separate\n",
    "    if distance >= max(r1, r2):\n",
    "        if distance == marine:  # Circles are externally tangent\n",
    "            result.append(1)  # Add 1 to the result list\n",
    "        elif distance < marine:  # Circles are separate\n",
    "            result.append(2)  # Add 2 to the result list\n",
    "        else:  # Circles do not overlap\n",
    "            result.append(0)  # Add 0 to the result list\n",
    "    # Cases where circles are internally tangent or one is contained within the other\n",
    "    else:\n",
    "        if distance + min(r1, r2) == max(r1, r2):  # Circles are internally tangent\n",
    "            if distance == 0:  # Circles have the same center\n",
    "                result.append(-1)  # Add -1 to the result list\n",
    "            else:  # Circles are internally tangent but have different centers\n",
    "                result.append(1)  # Add 1 to the result list\n",
    "        elif distance + min(r1, r2) > max(r1, r2):  # One circle is contained within the other\n",
    "            result.append(2)  # Add 2 to the result list\n",
    "        else:  # Circles do not overlap\n",
    "            result.append(0)  # Add 0 to the result list\n",
    "\n",
    "# Output the results\n",
    "for r in result:\n",
    "    print(r)"
   ]
  }
 ],
 "metadata": {
  "kernelspec": {
   "display_name": "Python 3 (ipykernel)",
   "language": "python",
   "name": "python3"
  },
  "language_info": {
   "codemirror_mode": {
    "name": "ipython",
    "version": 3
   },
   "file_extension": ".py",
   "mimetype": "text/x-python",
   "name": "python",
   "nbconvert_exporter": "python",
   "pygments_lexer": "ipython3",
   "version": "3.9.7"
  }
 },
 "nbformat": 4,
 "nbformat_minor": 5
}
