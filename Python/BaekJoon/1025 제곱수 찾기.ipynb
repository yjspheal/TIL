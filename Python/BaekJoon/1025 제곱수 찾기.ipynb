{
 "cells": [
  {
   "cell_type": "markdown",
   "id": "7b854ba1",
   "metadata": {},
   "source": [
    "https://www.acmicpc.net/problem/1025"
   ]
  },
  {
   "cell_type": "code",
   "execution_count": null,
   "id": "41c167f9",
   "metadata": {},
   "outputs": [],
   "source": [
    "#1025 제곱수 찾기\n",
    "import math\n",
    "\n",
    "def find_zegobsu(n):\n",
    "    if n == int(math.sqrt(n))**2:\n",
    "        return True\n",
    "    else:\n",
    "        return False\n",
    "    \n",
    "N, M = map(int,input().split())\n",
    "mx = max(N,M); mn = min(N,M)\n",
    "\n"
   ]
  }
 ],
 "metadata": {
  "kernelspec": {
   "display_name": "Python 3 (ipykernel)",
   "language": "python",
   "name": "python3"
  },
  "language_info": {
   "codemirror_mode": {
    "name": "ipython",
    "version": 3
   },
   "file_extension": ".py",
   "mimetype": "text/x-python",
   "name": "python",
   "nbconvert_exporter": "python",
   "pygments_lexer": "ipython3",
   "version": "3.9.7"
  }
 },
 "nbformat": 4,
 "nbformat_minor": 5
}
