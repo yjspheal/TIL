{
 "cells": [
  {
   "cell_type": "markdown",
   "id": "7b854ba1",
   "metadata": {},
   "source": [
    "https://www.acmicpc.net/problem/11866"
   ]
  },
  {
   "cell_type": "code",
   "execution_count": null,
   "id": "41c167f9",
   "metadata": {},
   "outputs": [],
   "source": [
    "#11866 요세푸스 문제 0\n",
    "\n",
    "N,K = map(int,input().split())\n",
    "nums = [1]*N\n",
    "yosepus = []\n",
    "\n",
    "cnt = 1\n",
    "gotoK = 0\n",
    "while nums != [0]*N:\n",
    "    for i in range(N):\n",
    "        if nums[i] == cnt:\n",
    "            gotoK += 1\n",
    "            nums[i] += 1\n",
    "            if gotoK == K:\n",
    "                yosepus.append(i+1)\n",
    "                nums[i] = 0\n",
    "                gotoK = 0\n",
    "                break\n",
    "                \n",
    "        if i == N-1:\n",
    "            cnt += 1\n",
    "        \n",
    "print(\"<\", end = \"\")\n",
    "for i in range(len(yosepus)):\n",
    "    if i == len(yosepus)-1:\n",
    "        print(yosepus[i], end = \"\")\n",
    "    else:\n",
    "        print(yosepus[i], end = \", \")\n",
    "print(\">\")"
   ]
  }
 ],
 "metadata": {
  "kernelspec": {
   "display_name": "Python 3 (ipykernel)",
   "language": "python",
   "name": "python3"
  },
  "language_info": {
   "codemirror_mode": {
    "name": "ipython",
    "version": 3
   },
   "file_extension": ".py",
   "mimetype": "text/x-python",
   "name": "python",
   "nbconvert_exporter": "python",
   "pygments_lexer": "ipython3",
   "version": "3.9.7"
  }
 },
 "nbformat": 4,
 "nbformat_minor": 5
}
