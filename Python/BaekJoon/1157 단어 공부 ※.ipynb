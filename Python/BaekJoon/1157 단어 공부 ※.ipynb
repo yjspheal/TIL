{
 "cells": [
  {
   "cell_type": "markdown",
   "id": "7b854ba1",
   "metadata": {},
   "source": [
    "https://www.acmicpc.net/problem/1157"
   ]
  },
  {
   "cell_type": "code",
   "execution_count": null,
   "id": "41c167f9",
   "metadata": {},
   "outputs": [],
   "source": [
    "#1157 단어 공부 ※\n",
    "\n",
    "word = list(input().upper())\n",
    "times = []\n",
    "newword = list(set(word))\n",
    "\n",
    "for w in newword:\n",
    "    times.append(word.count(w))\n",
    "\n",
    "max_t = max(times)\n",
    "\n",
    "if times.count(max_t) > 1:\n",
    "    print(\"?\")\n",
    "else:\n",
    "    print(newword[times.index(max(times))])"
   ]
  }
 ],
 "metadata": {
  "kernelspec": {
   "display_name": "Python 3 (ipykernel)",
   "language": "python",
   "name": "python3"
  },
  "language_info": {
   "codemirror_mode": {
    "name": "ipython",
    "version": 3
   },
   "file_extension": ".py",
   "mimetype": "text/x-python",
   "name": "python",
   "nbconvert_exporter": "python",
   "pygments_lexer": "ipython3",
   "version": "3.9.7"
  }
 },
 "nbformat": 4,
 "nbformat_minor": 5
}
