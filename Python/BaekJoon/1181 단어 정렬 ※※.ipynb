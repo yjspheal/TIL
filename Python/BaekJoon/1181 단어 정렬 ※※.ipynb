{
 "cells": [
  {
   "cell_type": "markdown",
   "id": "7b854ba1",
   "metadata": {},
   "source": [
    "https://www.acmicpc.net/problem/1181"
   ]
  },
  {
   "cell_type": "code",
   "execution_count": null,
   "id": "41c167f9",
   "metadata": {},
   "outputs": [],
   "source": [
    "#1181 단어 정렬 ※※\n",
    "import sys\n",
    "\n",
    "N = int(input())\n",
    "words = []\n",
    "\n",
    "for i in range(N):\n",
    "    w = input()\n",
    "    words.append(w)\n",
    "          \n",
    "words = sorted(list(set(words)))\n",
    "lengths = [0] * 51\n",
    "\n",
    "for i in range(len(words)):\n",
    "    lengths[len(words[i])] += 1\n",
    "\n",
    "for i in range(51):\n",
    "    for k in range(i):\n",
    "        for word in words:\n",
    "            if i == len(word):\n",
    "                print(word)\n",
    "    "
   ]
  }
 ],
 "metadata": {
  "kernelspec": {
   "display_name": "Python 3 (ipykernel)",
   "language": "python",
   "name": "python3"
  },
  "language_info": {
   "codemirror_mode": {
    "name": "ipython",
    "version": 3
   },
   "file_extension": ".py",
   "mimetype": "text/x-python",
   "name": "python",
   "nbconvert_exporter": "python",
   "pygments_lexer": "ipython3",
   "version": "3.9.7"
  }
 },
 "nbformat": 4,
 "nbformat_minor": 5
}
