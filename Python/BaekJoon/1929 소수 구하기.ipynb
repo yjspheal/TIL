{
 "cells": [
  {
   "cell_type": "markdown",
   "id": "7b854ba1",
   "metadata": {},
   "source": [
    "https://www.acmicpc.net/problem/1929"
   ]
  },
  {
   "cell_type": "markdown",
   "id": "6b4053a4",
   "metadata": {},
   "source": [
    "#1929 소수 구하기 *참조\n",
    "\n",
    "M, N = map(int,input().split())\n",
    "\n",
    "primes = list(range(2, int(N**0.5) + 1))\n",
    "\n",
    "\n",
    "for i in range(3, N + 1):\n",
    "    for p in primes:\n",
    "        if p < i and i % p == 0:\n",
    "            primes.remove(i)\n",
    "            break\n",
    "        \n",
    "\n",
    "\n",
    "for p in primes[k::]:\n",
    "    print(p)"
   ]
  },
  {
   "cell_type": "code",
   "execution_count": null,
   "id": "41c167f9",
   "metadata": {},
   "outputs": [],
   "source": [
    "#1929 소수 구하기\n",
    "\n",
    "import sys\n",
    "M, N = map(int,sys.stdin.readline().split())\n",
    "\n",
    "def isprime(num):\n",
    "    if num == 1:\n",
    "        return False\n",
    "    \n",
    "    for i in range(2, int(num**0.5) + 1):\n",
    "        if num % i == 0:\n",
    "            return False\n",
    "    else:\n",
    "        return True\n",
    "    \n",
    "for i in range(M, N + 1):\n",
    "    if isprime(i):\n",
    "        print(i)"
   ]
  }
 ],
 "metadata": {
  "kernelspec": {
   "display_name": "Python 3 (ipykernel)",
   "language": "python",
   "name": "python3"
  },
  "language_info": {
   "codemirror_mode": {
    "name": "ipython",
    "version": 3
   },
   "file_extension": ".py",
   "mimetype": "text/x-python",
   "name": "python",
   "nbconvert_exporter": "python",
   "pygments_lexer": "ipython3",
   "version": "3.9.7"
  }
 },
 "nbformat": 4,
 "nbformat_minor": 5
}
