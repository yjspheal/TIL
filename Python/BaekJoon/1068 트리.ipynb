{
 "cells": [
  {
   "cell_type": "markdown",
   "id": "7b854ba1",
   "metadata": {},
   "source": [
    "https://www.acmicpc.net/problem/1068"
   ]
  },
  {
   "cell_type": "code",
   "execution_count": null,
   "id": "41c167f9",
   "metadata": {},
   "outputs": [],
   "source": [
    "#1068 트리\n",
    "\n",
    "N = int(input())\n",
    "trees = list(map(int,input().split()))\n",
    "rmv = int(input())\n",
    "\n",
    "if rmv == 0:\n",
    "    print(0)\n",
    "else:\n",
    "    baby = trees.count(rmv)\n",
    "    ##함수 만들어서 부모노드랑 연결된 자식노드 다 찾아내고 지우기\n",
    "    #그리고나서 남은 애들중에서 값 제일 큰 게 몇갠지 세고 rmv 부모도 리프노드가 됐는지 판별"
   ]
  }
 ],
 "metadata": {
  "kernelspec": {
   "display_name": "Python 3 (ipykernel)",
   "language": "python",
   "name": "python3"
  },
  "language_info": {
   "codemirror_mode": {
    "name": "ipython",
    "version": 3
   },
   "file_extension": ".py",
   "mimetype": "text/x-python",
   "name": "python",
   "nbconvert_exporter": "python",
   "pygments_lexer": "ipython3",
   "version": "3.9.7"
  }
 },
 "nbformat": 4,
 "nbformat_minor": 5
}
