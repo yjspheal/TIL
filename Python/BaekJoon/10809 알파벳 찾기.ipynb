{
 "cells": [
  {
   "cell_type": "markdown",
   "id": "7b854ba1",
   "metadata": {},
   "source": [
    "https://www.acmicpc.net/problem/10809"
   ]
  },
  {
   "cell_type": "code",
   "execution_count": null,
   "id": "91348d08",
   "metadata": {},
   "outputs": [
    {
     "name": "stdout",
     "output_type": "stream",
     "text": [
      "baekjoon\n",
      "1 0 -1 -1 2 -1 -1 -1 -1 4 3 -1 -1 7 5 -1 -1 -1 -1 -1 -1 -1 -1 -1 -1 -1 "
     ]
    }
   ],
   "source": [
    "#10809 알파벳 찾기\n",
    "from string import ascii_lowercase\n",
    "letters = list(ascii_lowercase)\n",
    "S = input()\n",
    "\n",
    "for alp in letters:\n",
    "    if alp in S:\n",
    "        print(S.index(alp),end=\" \")\n",
    "    else:\n",
    "        print(-1,end=\" \")"
   ]
  }
 ],
 "metadata": {
  "kernelspec": {
   "display_name": "Python 3 (ipykernel)",
   "language": "python",
   "name": "python3"
  },
  "language_info": {
   "codemirror_mode": {
    "name": "ipython",
    "version": 3
   },
   "file_extension": ".py",
   "mimetype": "text/x-python",
   "name": "python",
   "nbconvert_exporter": "python",
   "pygments_lexer": "ipython3",
   "version": "3.9.7"
  }
 },
 "nbformat": 4,
 "nbformat_minor": 5
}
