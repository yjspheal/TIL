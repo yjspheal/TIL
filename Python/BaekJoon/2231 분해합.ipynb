{
 "cells": [
  {
   "cell_type": "markdown",
   "id": "7b854ba1",
   "metadata": {},
   "source": [
    "https://www.acmicpc.net/problem/2231"
   ]
  },
  {
   "cell_type": "code",
   "execution_count": null,
   "id": "41c167f9",
   "metadata": {},
   "outputs": [],
   "source": [
    "#2231 분해합\n",
    "\n",
    "N_s = input()\n",
    "N = int(N_s)\n",
    "m_N = int(N_s[0]) - 1 + (len(N_s) - 1)*9\n",
    "res = 0\n",
    "\n",
    "for num in range(N - m_N,N):\n",
    "    target = num\n",
    "    for i in str(num):\n",
    "        target += int(i)\n",
    "        \n",
    "    if target == N:\n",
    "        res = num\n",
    "        break\n",
    "        \n",
    "print(res)"
   ]
  }
 ],
 "metadata": {
  "kernelspec": {
   "display_name": "Python 3 (ipykernel)",
   "language": "python",
   "name": "python3"
  },
  "language_info": {
   "codemirror_mode": {
    "name": "ipython",
    "version": 3
   },
   "file_extension": ".py",
   "mimetype": "text/x-python",
   "name": "python",
   "nbconvert_exporter": "python",
   "pygments_lexer": "ipython3",
   "version": "3.9.7"
  }
 },
 "nbformat": 4,
 "nbformat_minor": 5
}
