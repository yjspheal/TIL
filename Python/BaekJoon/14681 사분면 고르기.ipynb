{
 "cells": [
  {
   "cell_type": "markdown",
   "id": "7b854ba1",
   "metadata": {},
   "source": [
    "https://www.acmicpc.net/problem/14681"
   ]
  },
  {
   "cell_type": "code",
   "execution_count": null,
   "id": "41c167f9",
   "metadata": {},
   "outputs": [],
   "source": [
    "#14681 사분면 고르기\n",
    "x = int(input())\n",
    "y = int(input())\n",
    "if x > 0:\n",
    "    if y > 0:\n",
    "        print(1)\n",
    "    else:\n",
    "        print(4)\n",
    "else:\n",
    "    if y > 0:\n",
    "        print(2)\n",
    "    else:\n",
    "        print(3)"
   ]
  }
 ],
 "metadata": {
  "kernelspec": {
   "display_name": "Python 3 (ipykernel)",
   "language": "python",
   "name": "python3"
  },
  "language_info": {
   "codemirror_mode": {
    "name": "ipython",
    "version": 3
   },
   "file_extension": ".py",
   "mimetype": "text/x-python",
   "name": "python",
   "nbconvert_exporter": "python",
   "pygments_lexer": "ipython3",
   "version": "3.9.7"
  }
 },
 "nbformat": 4,
 "nbformat_minor": 5
}
