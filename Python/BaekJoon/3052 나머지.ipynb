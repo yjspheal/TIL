{
 "cells": [
  {
   "cell_type": "markdown",
   "id": "7b854ba1",
   "metadata": {},
   "source": [
    "https://www.acmicpc.net/problem/3052"
   ]
  },
  {
   "cell_type": "code",
   "execution_count": null,
   "id": "41c167f9",
   "metadata": {},
   "outputs": [],
   "source": [
    "#3052 나머지\n",
    "nums = []\n",
    "namugi = []\n",
    "for i in range(10):\n",
    "    nums.append(int(input()))\n",
    "\n",
    "for n in nums:\n",
    "    namugi.append(n % 42)\n",
    "\n",
    "print(len(set(namugi)))"
   ]
  }
 ],
 "metadata": {
  "kernelspec": {
   "display_name": "Python 3 (ipykernel)",
   "language": "python",
   "name": "python3"
  },
  "language_info": {
   "codemirror_mode": {
    "name": "ipython",
    "version": 3
   },
   "file_extension": ".py",
   "mimetype": "text/x-python",
   "name": "python",
   "nbconvert_exporter": "python",
   "pygments_lexer": "ipython3",
   "version": "3.9.7"
  }
 },
 "nbformat": 4,
 "nbformat_minor": 5
}
