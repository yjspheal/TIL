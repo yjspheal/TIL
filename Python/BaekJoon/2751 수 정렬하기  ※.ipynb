{
 "cells": [
  {
   "cell_type": "markdown",
   "id": "7b854ba1",
   "metadata": {},
   "source": [
    "https://www.acmicpc.net/problem/2751"
   ]
  },
  {
   "cell_type": "code",
   "execution_count": null,
   "id": "41c167f9",
   "metadata": {},
   "outputs": [],
   "source": [
    "#2751 수 정렬하기  ※\n",
    "\n",
    "import sys\n",
    "\n",
    "N = int(sys.stdin.readline().strip())\n",
    "lst = [0] * 2000001\n",
    "\n",
    "for i in range(N):\n",
    "    n = int(sys.stdin.readline().strip())\n",
    "    lst[n+1000000] += 1\n",
    "    \n",
    "for ls in lst:\n",
    "    for l in range(ls):\n",
    "        print(lst.index(ls) - 1000000)\n",
    "        lst[lst.index(ls)] = 0"
   ]
  }
 ],
 "metadata": {
  "kernelspec": {
   "display_name": "Python 3 (ipykernel)",
   "language": "python",
   "name": "python3"
  },
  "language_info": {
   "codemirror_mode": {
    "name": "ipython",
    "version": 3
   },
   "file_extension": ".py",
   "mimetype": "text/x-python",
   "name": "python",
   "nbconvert_exporter": "python",
   "pygments_lexer": "ipython3",
   "version": "3.9.7"
  }
 },
 "nbformat": 4,
 "nbformat_minor": 5
}
