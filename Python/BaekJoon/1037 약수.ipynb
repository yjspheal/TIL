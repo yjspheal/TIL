{
 "cells": [
  {
   "cell_type": "markdown",
   "id": "9134bc2b",
   "metadata": {},
   "source": [
    "https://www.acmicpc.net/problem/1037"
   ]
  },
  {
   "cell_type": "code",
   "execution_count": null,
   "id": "265cb7b9",
   "metadata": {},
   "outputs": [],
   "source": [
    "#1037 약수\n",
    "\n",
    "# Get the input for the number of divisors\n",
    "n = int(input(\"Enter the number of divisors: \"))\n",
    "\n",
    "# Get the input for the list of divisors\n",
    "yaksu = map(int, input(\"Enter the divisors separated by spaces: \").split())\n",
    "\n",
    "# Convert the map to a list\n",
    "yaksu = list(yaksu)\n",
    "\n",
    "# Print the product of the smallest and largest divisors\n",
    "print(\"Product of smallest and largest divisors:\", min(yaksu) * max(yaksu))"
   ]
  }
 ],
 "metadata": {
  "kernelspec": {
   "display_name": "Python 3 (ipykernel)",
   "language": "python",
   "name": "python3"
  },
  "language_info": {
   "codemirror_mode": {
    "name": "ipython",
    "version": 3
   },
   "file_extension": ".py",
   "mimetype": "text/x-python",
   "name": "python",
   "nbconvert_exporter": "python",
   "pygments_lexer": "ipython3",
   "version": "3.9.7"
  }
 },
 "nbformat": 4,
 "nbformat_minor": 5
}
