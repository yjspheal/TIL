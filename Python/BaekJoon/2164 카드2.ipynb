{
 "cells": [
  {
   "cell_type": "markdown",
   "id": "7b854ba1",
   "metadata": {},
   "source": [
    "https://www.acmicpc.net/problem/2164"
   ]
  },
  {
   "cell_type": "code",
   "execution_count": null,
   "id": "41c167f9",
   "metadata": {},
   "outputs": [],
   "source": [
    "#2164 카드2\n",
    "\n",
    "def rtrn_nextset(lst):\n",
    "    if len(lst) % 2 == 1:\n",
    "        add_lst = lst[1:len(lst):2]\n",
    "        return [0]+add_lst\n",
    "    else:\n",
    "        return lst[1:len(lst):2]\n",
    "    \n",
    "num = int(input())\n",
    "numlist = list(range(1,num+1))\n",
    "\n",
    "while len(numlist) > 1:\n",
    "    numlist = rtrn_nextset(numlist)\n",
    "    \n",
    "print(numlist[0])"
   ]
  }
 ],
 "metadata": {
  "kernelspec": {
   "display_name": "Python 3 (ipykernel)",
   "language": "python",
   "name": "python3"
  },
  "language_info": {
   "codemirror_mode": {
    "name": "ipython",
    "version": 3
   },
   "file_extension": ".py",
   "mimetype": "text/x-python",
   "name": "python",
   "nbconvert_exporter": "python",
   "pygments_lexer": "ipython3",
   "version": "3.9.7"
  }
 },
 "nbformat": 4,
 "nbformat_minor": 5
}
