{
 "cells": [
  {
   "cell_type": "markdown",
   "id": "7b854ba1",
   "metadata": {},
   "source": [
    "https://www.acmicpc.net/problem/4673\n"
   ]
  },
  {
   "cell_type": "code",
   "execution_count": null,
   "id": "7c2d7985",
   "metadata": {},
   "outputs": [],
   "source": [
    "#4673 셀프 넘버 ※\n",
    "\n",
    "def self_number():\n",
    "    for i in range(1,10001):\n",
    "        if i < 10 and i % 2 == 1:\n",
    "            print(i)\n",
    "        elif i % 11 == 9:\n",
    "            print(i)\n",
    "            \n",
    "\n",
    "            "
   ]
  }
 ],
 "metadata": {
  "kernelspec": {
   "display_name": "Python 3 (ipykernel)",
   "language": "python",
   "name": "python3"
  },
  "language_info": {
   "codemirror_mode": {
    "name": "ipython",
    "version": 3
   },
   "file_extension": ".py",
   "mimetype": "text/x-python",
   "name": "python",
   "nbconvert_exporter": "python",
   "pygments_lexer": "ipython3",
   "version": "3.9.7"
  }
 },
 "nbformat": 4,
 "nbformat_minor": 5
}
