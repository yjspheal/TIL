{
 "cells": [
  {
   "cell_type": "markdown",
   "id": "3185fcc8",
   "metadata": {},
   "source": [
    "https://www.acmicpc.net/problem/11022"
   ]
  },
  {
   "cell_type": "code",
   "execution_count": null,
   "id": "05b6270c",
   "metadata": {},
   "outputs": [],
   "source": [
    "#11022 A+B - 8\n",
    "\n",
    "# Get the number of test cases\n",
    "N = int(input())\n",
    "\n",
    "# Initialize a list to store results\n",
    "res = []\n",
    "\n",
    "# Iterate through each test case\n",
    "for i in range(N):\n",
    "    # Read two integers from input\n",
    "    a, b = map(int, input().split())\n",
    "    \n",
    "    # Create a formatted string with the result of the current test case\n",
    "    result_string = f'Case #{i+1}: {a} + {b} = {a+b}'\n",
    "    \n",
    "    # Append the result string to the list\n",
    "    res.append(result_string)\n",
    "\n",
    "# Iterate through the list of result strings and print each one\n",
    "for r in res:\n",
    "    print(r)"
   ]
  }
 ],
 "metadata": {
  "kernelspec": {
   "display_name": "Python 3 (ipykernel)",
   "language": "python",
   "name": "python3"
  },
  "language_info": {
   "codemirror_mode": {
    "name": "ipython",
    "version": 3
   },
   "file_extension": ".py",
   "mimetype": "text/x-python",
   "name": "python",
   "nbconvert_exporter": "python",
   "pygments_lexer": "ipython3",
   "version": "3.9.7"
  }
 },
 "nbformat": 4,
 "nbformat_minor": 5
}
