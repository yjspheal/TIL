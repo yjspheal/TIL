{
 "cells": [
  {
   "cell_type": "markdown",
   "id": "7b854ba1",
   "metadata": {},
   "source": [
    "https://www.acmicpc.net/problem/2447"
   ]
  },
  {
   "cell_type": "code",
   "execution_count": null,
   "id": "3d0de913",
   "metadata": {},
   "outputs": [
    {
     "name": "stdout",
     "output_type": "stream",
     "text": [
      "9\n",
      "['*', '*', '*', '*', '*', '*', '*', '*', '*']\n",
      "['*', '*', '*', '*', '*', '*', '*', '*', '*']\n",
      "['*', '*', '*', '*', '*', '*', '*', '*', '*']\n",
      "['*', '*', '*', '*', '*', '*', '*', '*', '*']\n",
      "['*', '*', '*', '*', '*', '*', '*', '*', '*']\n",
      "['*', '*', '*', '*', '*', '*', '*', '*', '*']\n",
      "['*', '*', '*', '*', '*', '*', '*', '*', '*']\n",
      "['*', '*', '*', '*', '*', '*', '*', '*', '*']\n",
      "['*', '*', '*', '*', '*', '*', '*', '*', '*']\n"
     ]
    }
   ],
   "source": [
    "#2447 별 찍기 10 ※\n",
    "import math\n",
    "\n",
    "n = int(input())\n",
    "k = int(math.log(n,3))\n",
    "        \n",
    "def make_blank(lst):\n",
    "    3 -> 1, 4, 7\n",
    "    9 -> 345\n",
    "    for i in range(n):\n",
    "        for mlt in range(k):\n",
    "            mlt3 = mlt ** 3\n",
    "            namugi = i % mlt3\n",
    "            if namugi >= mlt3 // 3 and namugi < mlt3 // 3 * 2:\n",
    "                lst[i]\n",
    "\n",
    "stars = []\n",
    "for i in range(n):\n",
    "    stars.append([\"*\"]*n)\n",
    "    \n",
    "stars = make_black(stars)\n",
    "for s in stars:\n",
    "    print(s)"
   ]
  },
  {
   "cell_type": "code",
   "execution_count": null,
   "id": "0235aaf8",
   "metadata": {},
   "outputs": [
    {
     "name": "stdout",
     "output_type": "stream",
     "text": [
      "9\n",
      "['*', '*', '*', '*', '*', '*', '*', '*', '*']\n",
      "['*', '*', '*', '*', '*', '*', '*', '*', '*']\n",
      "['*', '*', '*', '*', '*', '*', '*', '*', '*']\n",
      "['*', '*', '*', '*', '*', '*', '*', '*', '*']\n",
      "['*', '*', '*', '*', '*', '*', '*', '*', '*']\n",
      "['*', '*', '*', '*', '*', '*', '*', '*', '*']\n",
      "['*', '*', '*', '*', '*', '*', '*', '*', '*']\n",
      "['*', '*', '*', '*', '*', '*', '*', '*', '*']\n",
      "['*', '*', '*', '*', '*', '*', '*', '*', '*']\n"
     ]
    }
   ],
   "source": [
    "#2447 별 찍기 10 ※\n",
    "import math\n",
    "\n",
    "n = int(input())\n",
    "k = int(math.log(n,3))\n",
    "        \n",
    "def make_blank(lst):\n",
    "    3 -> 1, 4, 7\n",
    "    9 -> 345\n",
    "    for i in range(n):\n",
    "        for mlt in range(k):\n",
    "            mlt3 = mlt ** 3\n",
    "            namugi = i % mlt3\n",
    "            if namugi >= mlt3 // 3 and namugi < mlt3 // 3 * 2:\n",
    "                lst[i]\n",
    "\n",
    "stars = []\n",
    "for i in range(n):\n",
    "    stars.append([\"*\"]*n)\n",
    "    \n",
    "stars = make_black(stars)\n",
    "for s in stars:\n",
    "    print(s)"
   ]
  }
 ],
 "metadata": {
  "kernelspec": {
   "display_name": "Python 3 (ipykernel)",
   "language": "python",
   "name": "python3"
  },
  "language_info": {
   "codemirror_mode": {
    "name": "ipython",
    "version": 3
   },
   "file_extension": ".py",
   "mimetype": "text/x-python",
   "name": "python",
   "nbconvert_exporter": "python",
   "pygments_lexer": "ipython3",
   "version": "3.9.7"
  }
 },
 "nbformat": 4,
 "nbformat_minor": 5
}
