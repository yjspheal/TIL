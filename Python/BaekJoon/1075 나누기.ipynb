{
 "cells": [
  {
   "cell_type": "markdown",
   "id": "7b854ba1",
   "metadata": {},
   "source": [
    "https://www.acmicpc.net/problem/1075"
   ]
  },
  {
   "cell_type": "markdown",
   "id": "b58d113a",
   "metadata": {},
   "source": [
    "# 1075 나누기"
   ]
  },
  {
   "cell_type": "code",
   "execution_count": null,
   "id": "41c167f9",
   "metadata": {},
   "outputs": [],
   "source": [
    "N = int(input())\n",
    "F = int(input())\n",
    "\n",
    "N = N // 100 * 100\n",
    "\n",
    "for n in range(N, N+100):\n",
    "    if n % F == 0:\n",
    "        print(str(n)[-2:])\n",
    "        break\n"
   ]
  }
 ],
 "metadata": {
  "kernelspec": {
   "display_name": "Python 3 (ipykernel)",
   "language": "python",
   "name": "python3"
  },
  "language_info": {
   "codemirror_mode": {
    "name": "ipython",
    "version": 3
   },
   "file_extension": ".py",
   "mimetype": "text/x-python",
   "name": "python",
   "nbconvert_exporter": "python",
   "pygments_lexer": "ipython3",
   "version": "3.9.7"
  }
 },
 "nbformat": 4,
 "nbformat_minor": 5
}
