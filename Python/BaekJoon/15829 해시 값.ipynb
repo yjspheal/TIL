{
 "cells": [
  {
   "cell_type": "markdown",
   "id": "7b854ba1",
   "metadata": {},
   "source": [
    "https://www.acmicpc.net/problem/15829"
   ]
  },
  {
   "cell_type": "code",
   "execution_count": null,
   "id": "41c167f9",
   "metadata": {},
   "outputs": [],
   "source": [
    "#15829 해시 값\n",
    "from string import ascii_lowercase\n",
    "letters = list(ascii_lowercase)\n",
    "\n",
    "N = int(input())\n",
    "strs = input()\n",
    "\n",
    "hashi = 0\n",
    "r = 1\n",
    "M = 1234567891\n",
    "\n",
    "for s in strs:\n",
    "    a = letters.index(s) + 1\n",
    "    hashi += a * r\n",
    "    r *= 31\n",
    "\n",
    "print(hashi % 1234567891)"
   ]
  }
 ],
 "metadata": {
  "kernelspec": {
   "display_name": "Python 3 (ipykernel)",
   "language": "python",
   "name": "python3"
  },
  "language_info": {
   "codemirror_mode": {
    "name": "ipython",
    "version": 3
   },
   "file_extension": ".py",
   "mimetype": "text/x-python",
   "name": "python",
   "nbconvert_exporter": "python",
   "pygments_lexer": "ipython3",
   "version": "3.9.7"
  }
 },
 "nbformat": 4,
 "nbformat_minor": 5
}
