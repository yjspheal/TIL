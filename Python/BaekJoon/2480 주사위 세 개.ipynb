{
 "cells": [
  {
   "cell_type": "markdown",
   "id": "7b854ba1",
   "metadata": {},
   "source": [
    "https://www.acmicpc.net/problem/2480"
   ]
  },
  {
   "cell_type": "code",
   "execution_count": null,
   "id": "41c167f9",
   "metadata": {},
   "outputs": [],
   "source": [
    "#2480 주사위 세 개\n",
    "\n",
    "nums = list(map(int,input().split()))\n",
    "\n",
    "if len(set(nums))==1:\n",
    "    print(10000 + nums[0] * 1000)\n",
    "elif len(set(nums))==2:\n",
    "    if nums[0] == nums[1] or nums[0] == nums[2]:\n",
    "        print(1000 + nums[0] * 100)\n",
    "    else:\n",
    "        print(1000 + nums[1] * 100)  \n",
    "else:\n",
    "    print(max(nums) * 100)"
   ]
  }
 ],
 "metadata": {
  "kernelspec": {
   "display_name": "Python 3 (ipykernel)",
   "language": "python",
   "name": "python3"
  },
  "language_info": {
   "codemirror_mode": {
    "name": "ipython",
    "version": 3
   },
   "file_extension": ".py",
   "mimetype": "text/x-python",
   "name": "python",
   "nbconvert_exporter": "python",
   "pygments_lexer": "ipython3",
   "version": "3.9.7"
  }
 },
 "nbformat": 4,
 "nbformat_minor": 5
}
