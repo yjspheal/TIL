{
 "cells": [
  {
   "cell_type": "markdown",
   "id": "7b854ba1",
   "metadata": {},
   "source": [
    "https://www.acmicpc.net/problem/5622"
   ]
  },
  {
   "cell_type": "code",
   "execution_count": null,
   "id": "e084be50",
   "metadata": {},
   "outputs": [
    {
     "name": "stdout",
     "output_type": "stream",
     "text": [
      "UNUCIC\n",
      "36\n"
     ]
    }
   ],
   "source": [
    "#5622 다이얼\n",
    "from string import ascii_uppercase\n",
    "LETTERS = list(ascii_uppercase)\n",
    "a=input()\n",
    "time=0\n",
    "\n",
    "for alp in a:\n",
    "    cl = LETTERS.index(alp) + 1\n",
    "    if cl <= 3:\n",
    "        time += 3\n",
    "    elif cl <= 6:\n",
    "        time += 4\n",
    "    elif cl <= 9:\n",
    "        time += 5\n",
    "    elif cl <= 12:\n",
    "        time += 6\n",
    "    elif cl <= 15:\n",
    "        time += 7\n",
    "    elif cl <= 19:\n",
    "        time += 8\n",
    "    elif cl <= 22:\n",
    "        time += 9\n",
    "    else:\n",
    "        time += 10\n",
    "        \n",
    "print(time)"
   ]
  }
 ],
 "metadata": {
  "kernelspec": {
   "display_name": "Python 3 (ipykernel)",
   "language": "python",
   "name": "python3"
  },
  "language_info": {
   "codemirror_mode": {
    "name": "ipython",
    "version": 3
   },
   "file_extension": ".py",
   "mimetype": "text/x-python",
   "name": "python",
   "nbconvert_exporter": "python",
   "pygments_lexer": "ipython3",
   "version": "3.9.7"
  }
 },
 "nbformat": 4,
 "nbformat_minor": 5
}
