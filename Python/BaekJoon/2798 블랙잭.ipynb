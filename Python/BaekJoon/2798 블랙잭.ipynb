{
 "cells": [
  {
   "cell_type": "markdown",
   "id": "1937de04",
   "metadata": {},
   "source": [
    "https://www.acmicpc.net/problem/2798"
   ]
  },
  {
   "cell_type": "code",
   "execution_count": null,
   "id": "439e6004",
   "metadata": {},
   "outputs": [],
   "source": [
    "#2798 블랙잭\n",
    "\n",
    "# Read the values of N and M from input\n",
    "N, M = map(int, input().split())\n",
    "\n",
    "# Read the list of cards and sort it in descending order\n",
    "cards = list(map(int, input().split()))\n",
    "cards = sorted(cards, reverse=True)\n",
    "\n",
    "# Initialize an empty list to store possible sums of cards\n",
    "hap = []\n",
    "\n",
    "# Iterate through each card value in the sorted list\n",
    "for i in cards:\n",
    "    # Iterate through the remaining cards after the current card\n",
    "    for k in cards[(cards.index(i) + 1)::]:\n",
    "        # If the sum of the current card and the remaining card is greater than M, stop\n",
    "        if i + k > M:\n",
    "            break\n",
    "        else:\n",
    "            # Iterate through the remaining cards in reverse order\n",
    "            for j in cards[(len(cards) - 1):cards.index(k):-1]:\n",
    "                # If the sum of the three cards is greater than M, stop\n",
    "                if i + k + j > M:\n",
    "                    break\n",
    "                else:\n",
    "                    # Add the sum of the three cards to the hap list\n",
    "                    hap.append(i + j + k)\n",
    "\n",
    "# Print the maximum value in the hap list\n",
    "print(max(hap))\n"
   ]
  }
 ],
 "metadata": {
  "kernelspec": {
   "display_name": "Python 3 (ipykernel)",
   "language": "python",
   "name": "python3"
  },
  "language_info": {
   "codemirror_mode": {
    "name": "ipython",
    "version": 3
   },
   "file_extension": ".py",
   "mimetype": "text/x-python",
   "name": "python",
   "nbconvert_exporter": "python",
   "pygments_lexer": "ipython3",
   "version": "3.9.7"
  }
 },
 "nbformat": 4,
 "nbformat_minor": 5
}
