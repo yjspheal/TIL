{
 "cells": [
  {
   "cell_type": "markdown",
   "id": "84b1e350",
   "metadata": {},
   "source": [
    "https://www.acmicpc.net/problem/4344"
   ]
  },
  {
   "cell_type": "code",
   "execution_count": null,
   "id": "c8a21bc1",
   "metadata": {},
   "outputs": [],
   "source": [
    "#4344 평균은 넘겠지\n",
    "\n",
    "# Get the number of cases as input\n",
    "N = int(input(\"Enter the number of cases: \"))\n",
    "\n",
    "# Initialize an empty list to store the results\n",
    "cases = []\n",
    "\n",
    "# Loop to input and process the cases\n",
    "for i in range(N):\n",
    "    c = list(map(int, input().split()))  # Input space-separated integers\n",
    "    avg = sum(c[1::]) / c[0]  # Calculate the average of the scores excluding the first value\n",
    "    \n",
    "    higher_avg = 0\n",
    "    # Count the number of scores higher than or equal to the average\n",
    "    for res in c[1::]:\n",
    "        if res >= avg:\n",
    "            higher_avg += 1\n",
    "            \n",
    "    # Calculate and append the percentage of scores above average to the cases list\n",
    "    cases.append(higher_avg / c[0] * 100)\n",
    "\n",
    "# Loop through the cases and print the results formatted to three decimal places\n",
    "for case in cases:\n",
    "    print(\"{:.3f}%\".format(case))"
   ]
  }
 ],
 "metadata": {
  "kernelspec": {
   "display_name": "Python 3 (ipykernel)",
   "language": "python",
   "name": "python3"
  },
  "language_info": {
   "codemirror_mode": {
    "name": "ipython",
    "version": 3
   },
   "file_extension": ".py",
   "mimetype": "text/x-python",
   "name": "python",
   "nbconvert_exporter": "python",
   "pygments_lexer": "ipython3",
   "version": "3.9.7"
  }
 },
 "nbformat": 4,
 "nbformat_minor": 5
}
