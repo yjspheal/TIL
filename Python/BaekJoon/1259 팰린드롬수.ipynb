{
 "cells": [
  {
   "cell_type": "markdown",
   "id": "7b854ba1",
   "metadata": {},
   "source": [
    "https://www.acmicpc.net/problem/1259"
   ]
  },
  {
   "cell_type": "code",
   "execution_count": null,
   "id": "41c167f9",
   "metadata": {},
   "outputs": [],
   "source": [
    "#1259 팰린드롬수\n",
    "\n",
    "while True:\n",
    "    N = input()\n",
    "    if int(N) == 0:\n",
    "        break\n",
    "    else:\n",
    "        rev = list(N)\n",
    "        N = list(N)\n",
    "        N.reverse()\n",
    "        if rev == N:\n",
    "            print(\"yes\")\n",
    "        else:\n",
    "            print(\"no\")\n",
    "        "
   ]
  }
 ],
 "metadata": {
  "kernelspec": {
   "display_name": "Python 3 (ipykernel)",
   "language": "python",
   "name": "python3"
  },
  "language_info": {
   "codemirror_mode": {
    "name": "ipython",
    "version": 3
   },
   "file_extension": ".py",
   "mimetype": "text/x-python",
   "name": "python",
   "nbconvert_exporter": "python",
   "pygments_lexer": "ipython3",
   "version": "3.9.7"
  }
 },
 "nbformat": 4,
 "nbformat_minor": 5
}
