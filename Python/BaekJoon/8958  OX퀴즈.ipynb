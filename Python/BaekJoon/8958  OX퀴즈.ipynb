{
 "cells": [
  {
   "cell_type": "markdown",
   "id": "7b854ba1",
   "metadata": {},
   "source": [
    "https://www.acmicpc.net/problem/8958"
   ]
  },
  {
   "cell_type": "code",
   "execution_count": null,
   "id": "41c167f9",
   "metadata": {},
   "outputs": [],
   "source": [
    "#8958  OX퀴즈\n",
    "n = int(input())\n",
    "points=[]\n",
    "\n",
    "for i in range(n):\n",
    "    Os = list(input().split(\"X\"))\n",
    "    point = 0\n",
    "\n",
    "    for O in Os:\n",
    "        for i in range(len(O)+1):\n",
    "            point += i\n",
    "            \n",
    "    points.append(point)\n",
    "    \n",
    "for p in points:\n",
    "    print(p)"
   ]
  }
 ],
 "metadata": {
  "kernelspec": {
   "display_name": "Python 3 (ipykernel)",
   "language": "python",
   "name": "python3"
  },
  "language_info": {
   "codemirror_mode": {
    "name": "ipython",
    "version": 3
   },
   "file_extension": ".py",
   "mimetype": "text/x-python",
   "name": "python",
   "nbconvert_exporter": "python",
   "pygments_lexer": "ipython3",
   "version": "3.9.7"
  }
 },
 "nbformat": 4,
 "nbformat_minor": 5
}
