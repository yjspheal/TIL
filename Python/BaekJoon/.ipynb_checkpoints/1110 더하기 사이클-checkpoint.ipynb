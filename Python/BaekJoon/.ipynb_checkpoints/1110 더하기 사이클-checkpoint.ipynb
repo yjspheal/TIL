{
 "cells": [
  {
   "cell_type": "markdown",
   "id": "816fc48e",
   "metadata": {},
   "source": [
    "https://www.acmicpc.net/problem/1110/"
   ]
  },
  {
   "cell_type": "code",
   "execution_count": null,
   "id": "c2e715cd",
   "metadata": {},
   "outputs": [],
   "source": [
    "#1110 더하기 사이클\n",
    "\n",
    "# Get the input number N\n",
    "N = int(input(\"Enter a number: \"))\n",
    "\n",
    "# Initialize a count to keep track of the cycle length\n",
    "count = 1\n",
    "\n",
    "# Function to find the next number in the sequence\n",
    "def find_nextnum(n):\n",
    "    r = n % 10\n",
    "    l = n // 10\n",
    "    new_n = r + l\n",
    "    nr = new_n % 10\n",
    "    new_n = r * 10 + nr\n",
    "    return new_n\n",
    "\n",
    "# Calculate the first new number\n",
    "new_N = find_nextnum(N)\n",
    "\n",
    "# Loop to find the cycle length\n",
    "while True:\n",
    "    count += 1  # Increment the count for each iteration\n",
    "    new_N = find_nextnum(new_N)\n",
    "    if new_N == N:\n",
    "        break  # Exit the loop when the cycle completes\n",
    "\n",
    "# Check special cases where cycle length is 1\n",
    "if N == 0 or N == find_nextnum(N):\n",
    "    print(1)\n",
    "else:\n",
    "    print(count)  # Print the cycle length\n",
    "    "
   ]
  }
 ],
 "metadata": {
  "kernelspec": {
   "display_name": "Python 3 (ipykernel)",
   "language": "python",
   "name": "python3"
  },
  "language_info": {
   "codemirror_mode": {
    "name": "ipython",
    "version": 3
   },
   "file_extension": ".py",
   "mimetype": "text/x-python",
   "name": "python",
   "nbconvert_exporter": "python",
   "pygments_lexer": "ipython3",
   "version": "3.9.7"
  }
 },
 "nbformat": 4,
 "nbformat_minor": 5
}
