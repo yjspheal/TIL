{
 "cells": [
  {
   "cell_type": "markdown",
   "id": "89a7a5e8",
   "metadata": {},
   "source": [
    "https://www.acmicpc.net/problem/2292"
   ]
  },
  {
   "cell_type": "code",
   "execution_count": null,
   "id": "be787466",
   "metadata": {},
   "outputs": [],
   "source": [
    "#2292 벌집\n",
    "\n",
    "# Get the input number N\n",
    "N = int(input(\"Enter a number: \"))\n",
    "\n",
    "# Subtract 1 from N to work with a 0-based indexing system\n",
    "N -= 1\n",
    "\n",
    "# Initialize variables to keep track of cells and the increment factor\n",
    "cells = 1\n",
    "a = 1\n",
    "\n",
    "# Loop to find the layer where N belongs\n",
    "while N > 0:\n",
    "    # Subtract the current layer's cells from N\n",
    "    N -= a * 6\n",
    "    a += 1  # Increment the layer's increment factor\n",
    "    cells += 1  # Increment the number of cells\n",
    "\n",
    "# Print the layer where N belongs (which is the answer)\n",
    "print(cells)"
   ]
  }
 ],
 "metadata": {
  "kernelspec": {
   "display_name": "Python 3 (ipykernel)",
   "language": "python",
   "name": "python3"
  },
  "language_info": {
   "codemirror_mode": {
    "name": "ipython",
    "version": 3
   },
   "file_extension": ".py",
   "mimetype": "text/x-python",
   "name": "python",
   "nbconvert_exporter": "python",
   "pygments_lexer": "ipython3",
   "version": "3.9.7"
  }
 },
 "nbformat": 4,
 "nbformat_minor": 5
}
