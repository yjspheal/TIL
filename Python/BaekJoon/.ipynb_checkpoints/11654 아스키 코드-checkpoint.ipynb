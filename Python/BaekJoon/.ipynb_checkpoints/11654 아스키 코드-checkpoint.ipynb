{
 "cells": [
  {
   "cell_type": "markdown",
   "id": "7b854ba1",
   "metadata": {},
   "source": [
    "https://www.acmicpc.net/problem/11654"
   ]
  },
  {
   "cell_type": "code",
   "execution_count": null,
   "id": "6e5d429a",
   "metadata": {},
   "outputs": [],
   "source": [
    "#11654 아스키 코드\n",
    "\n",
    "# Get the input character\n",
    "a = input(\"Enter a character: \")\n",
    "\n",
    "# Print the ASCII value of the input character\n",
    "print(\"ASCII value:\", ord(a))\n"
   ]
  }
 ],
 "metadata": {
  "kernelspec": {
   "display_name": "Python 3 (ipykernel)",
   "language": "python",
   "name": "python3"
  },
  "language_info": {
   "codemirror_mode": {
    "name": "ipython",
    "version": 3
   },
   "file_extension": ".py",
   "mimetype": "text/x-python",
   "name": "python",
   "nbconvert_exporter": "python",
   "pygments_lexer": "ipython3",
   "version": "3.9.7"
  }
 },
 "nbformat": 4,
 "nbformat_minor": 5
}
