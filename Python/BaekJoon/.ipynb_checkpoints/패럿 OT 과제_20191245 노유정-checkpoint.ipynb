{
 "cells": [
  {
   "cell_type": "code",
   "execution_count": null,
   "id": "d6c2e183",
   "metadata": {},
   "outputs": [],
   "source": [
    "#문제 1\n",
    "\n",
    "nums = list(map(int,input().split()))\n",
    "\n",
    "if len(set(nums))==1:\n",
    "    print(10000 + nums[0] * 1000)\n",
    "elif len(set(nums))==2:\n",
    "    if nums[0] == nums[1] or nums[0] == nums[2]:\n",
    "        print(1000 + nums[0] * 100)\n",
    "    else:\n",
    "        print(1000 + nums[1] * 100)  \n",
    "else:\n",
    "    print(max(nums) * 100)"
   ]
  },
  {
   "cell_type": "code",
   "execution_count": null,
   "id": "37cabc7f",
   "metadata": {},
   "outputs": [],
   "source": [
    "#문제 2\n",
    "\n",
    "while True:\n",
    "    a, b = map(int, input().split())\n",
    "    if a==0 and b==0:\n",
    "        break\n",
    "    elif a > 0 and b % a == 0:\n",
    "        print(\"factor\")\n",
    "    elif b > 0 and a % b == 0:\n",
    "        print(\"multiple\")\n",
    "    else:\n",
    "        print(\"neither\")"
   ]
  },
  {
   "cell_type": "code",
   "execution_count": null,
   "id": "c906f5ca",
   "metadata": {},
   "outputs": [],
   "source": [
    "#문제 3\n",
    "\n",
    "a = int(input()); b = int(input()); c = int(input())\n",
    "\n",
    "d = a*b*c\n",
    "d = list(str(d))\n",
    "for i in range(10):\n",
    "    print(d.count(str(i)))"
   ]
  },
  {
   "cell_type": "code",
   "execution_count": null,
   "id": "f7d1eb4a",
   "metadata": {},
   "outputs": [],
   "source": [
    "#문제 4\n",
    "\n",
    "character = {\n",
    "    'name' : '기사',\n",
    "    'level' : 12,\n",
    "    'items' :{\n",
    "        'sword' : '불꽃의 검',\n",
    "        'armor' : '풀플레이트'\n",
    "    },\n",
    "    'skill' : ['베기', '강하게 베기', '아주 강하게 베기']\n",
    "}\n",
    "for K, V in character.items():\n",
    "    if type(V) is dict:\n",
    "        for k, v in V.items():\n",
    "            print(f'{k} : {v}')\n",
    "            \n",
    "    elif type(V) is list:\n",
    "        for v in V:\n",
    "            print(f'{K} : {v}')\n",
    "            \n",
    "    else:\n",
    "        print(f'{K} : {V}')"
   ]
  },
  {
   "cell_type": "code",
   "execution_count": null,
   "id": "a8b821b4",
   "metadata": {},
   "outputs": [],
   "source": [
    "#문제 5\n",
    "\n",
    "class Rectangle:\n",
    "    count = 0\n",
    "    sum_area = 0\n",
    " \n",
    " # 초기자(initializer)\n",
    "    def __init__(self, width, height):\n",
    "        self.width = width\n",
    "        self.height = height\n",
    "        Rectangle.count += 1\n",
    " \n",
    " # 메서드\n",
    "    def calcArea(self): # 넓이 계산\n",
    "        area = self.width * self.height\n",
    "        Rectangle.sum_area += area\n",
    "        return area\n",
    "    \n",
    "sq1 = Rectangle(5,5)\n",
    "print(Rectangle.calcArea(sq1))\n",
    "\n",
    "sq2 = Rectangle(4,6)\n",
    "print(Rectangle.count)"
   ]
  },
  {
   "cell_type": "code",
   "execution_count": null,
   "id": "017c228a",
   "metadata": {},
   "outputs": [],
   "source": [
    "#문제 6\n",
    "\n",
    "class calc:\n",
    "    def __init__(self, num1, num2):\n",
    "        self.num1 = num1\n",
    "        self.num2 = num2\n",
    "        \n",
    "    def plus(self):\n",
    "        return self.num1 + self.num2\n",
    "    \n",
    "    def minus(self):\n",
    "        return self.num1 - self.num2\n",
    "    \n",
    "    def mult(self):\n",
    "        return self.num1 * self.num2\n",
    "    \n",
    "    def divi(self):\n",
    "        return self.num1 / self.num2\n",
    "    \n",
    "sets = [calc(1,2), calc(3,4), calc(5,6), calc(7,8)]\n",
    "print(calc.plus(sets[0]), calc.minus(sets[1]), calc.mult(sets[2]), calc.divi(sets[3]))"
   ]
  },
  {
   "cell_type": "code",
   "execution_count": null,
   "id": "b91fb5e0",
   "metadata": {},
   "outputs": [],
   "source": []
  }
 ],
 "metadata": {
  "kernelspec": {
   "display_name": "Python 3 (ipykernel)",
   "language": "python",
   "name": "python3"
  },
  "language_info": {
   "codemirror_mode": {
    "name": "ipython",
    "version": 3
   },
   "file_extension": ".py",
   "mimetype": "text/x-python",
   "name": "python",
   "nbconvert_exporter": "python",
   "pygments_lexer": "ipython3",
   "version": "3.9.7"
  }
 },
 "nbformat": 4,
 "nbformat_minor": 5
}
