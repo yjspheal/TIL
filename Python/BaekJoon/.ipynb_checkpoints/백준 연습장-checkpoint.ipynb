{
 "cells": [
  {
   "cell_type": "code",
   "execution_count": 26,
   "id": "184438ab",
   "metadata": {},
   "outputs": [
    {
     "name": "stdout",
     "output_type": "stream",
     "text": [
      "1\n",
      "z\n",
      "1\n"
     ]
    }
   ],
   "source": [
    "#1316 그룹 단어 체커\n",
    "\n",
    "# Get the number of strings as input\n",
    "N = int(input(\"Enter the number of strings: \"))\n",
    "\n",
    "# Initialize an empty list to store the input strings\n",
    "Strings = []\n",
    "\n",
    "# Initialize a variable to store the result\n",
    "res = 0\n",
    "\n",
    "# Loop to input the strings\n",
    "for i in range(N):\n",
    "    S = list(input(\"Enter a string: \"))  # Convert the input string into a list of characters\n",
    "    Strings.append(S)  # Append the list of characters to the Strings list\n",
    "\n",
    "# Function to create a new list with consecutive duplicate characters removed\n",
    "def let_set(strn):\n",
    "    ret_str = list(strn[0])  # Initialize the return list with the first character\n",
    "    \n",
    "    for i in range(len(strn) - 1):\n",
    "        if strn[i] != strn[i+1]:\n",
    "            ret_str.append(strn[i+1])  # Append the character if it's different from the previous one\n",
    "            \n",
    "    return ret_str\n",
    "\n",
    "# Loop through the list of strings\n",
    "for Strs in Strings:\n",
    "    if len(set(Strs)) == len(let_set(Strs)):\n",
    "        res += 1  # Increment the result if the length of the set matches the length of the modified string\n",
    "\n",
    "# Print the final result\n",
    "print(\"Number of strings satisfying the condition:\", res)"
   ]
  },
  {
   "cell_type": "code",
   "execution_count": 7,
   "id": "65718821",
   "metadata": {},
   "outputs": [
    {
     "name": "stdout",
     "output_type": "stream",
     "text": [
      "1\n",
      "5 2 4 5 5 6\n",
      "80.000%\n"
     ]
    }
   ],
   "source": [
    "#4344 평균은 넘겠지\n",
    "\n",
    "N = int(input())\n",
    "cases = []\n",
    "\n",
    "for i in range(N):\n",
    "    c = list(map(int,input().split()))\n",
    "    avg = sum(c[1::]) / c[0]\n",
    "    higher_avg = 0\n",
    "    for res in c[1::]:\n",
    "        if res >= avg:\n",
    "            higher_avg += 1\n",
    "    cases.append(higher_avg / c[0] * 100)\n",
    "    \n",
    "for case in cases:\n",
    "    print(\"{:.3f}%\".format(case))\n",
    "    "
   ]
  },
  {
   "cell_type": "code",
   "execution_count": 24,
   "id": "fd679326",
   "metadata": {},
   "outputs": [
    {
     "name": "stdout",
     "output_type": "stream",
     "text": [
      "71\n",
      "71 1 8 18\n",
      "18 8 9 89\n",
      "89 9 7 97\n",
      "97 7 6 76\n",
      "76 6 3 63\n",
      "63 3 9 39\n",
      "39 9 2 92\n",
      "92 2 1 21\n",
      "21 1 3 13\n",
      "13 3 4 34\n",
      "34 4 7 47\n",
      "47 7 1 71\n",
      "71 1 8 18\n",
      "12\n"
     ]
    }
   ],
   "source": [
    "#1110 더하기 사이클\n",
    "\n",
    "N = int(input())\n",
    "count = 1\n",
    "\n",
    "def find_nextnum(n):\n",
    "    r = n % 10 \n",
    "    l = n // 10\n",
    "    new_n = r + l\n",
    "    nr = new_n % 10\n",
    "    new_n = r*10 + nr\n",
    "    return new_n\n",
    "\n",
    "new_N = find_nextnum(N)\n",
    "\n",
    "while True:\n",
    "    count += 1\n",
    "    new_N = find_nextnum(new_N)\n",
    "    if new_N == N:\n",
    "        break\n",
    "    \n",
    "if N == 0 or N == find_nextnum(N):\n",
    "    print(1)\n",
    "else:\n",
    "    print(count)\n",
    "    "
   ]
  },
  {
   "cell_type": "code",
   "execution_count": 9,
   "id": "de5c1743",
   "metadata": {},
   "outputs": [
    {
     "ename": "ValueError",
     "evalue": "not enough values to unpack (expected 2, got 0)",
     "output_type": "error",
     "traceback": [
      "\u001b[1;31m---------------------------------------------------------------------------\u001b[0m",
      "\u001b[1;31mValueError\u001b[0m                                Traceback (most recent call last)",
      "\u001b[1;32m~\\AppData\\Local\\Temp/ipykernel_12456/2264265850.py\u001b[0m in \u001b[0;36m<module>\u001b[1;34m\u001b[0m\n\u001b[0;32m      2\u001b[0m \u001b[1;32mimport\u001b[0m \u001b[0msys\u001b[0m\u001b[1;33m\u001b[0m\u001b[1;33m\u001b[0m\u001b[0m\n\u001b[0;32m      3\u001b[0m \u001b[1;33m\u001b[0m\u001b[0m\n\u001b[1;32m----> 4\u001b[1;33m \u001b[0mK\u001b[0m\u001b[1;33m,\u001b[0m \u001b[0mN\u001b[0m \u001b[1;33m=\u001b[0m \u001b[0mmap\u001b[0m\u001b[1;33m(\u001b[0m\u001b[0mint\u001b[0m\u001b[1;33m,\u001b[0m \u001b[0msys\u001b[0m\u001b[1;33m.\u001b[0m\u001b[0mstdin\u001b[0m\u001b[1;33m.\u001b[0m\u001b[0mreadline\u001b[0m\u001b[1;33m(\u001b[0m\u001b[1;33m)\u001b[0m\u001b[1;33m.\u001b[0m\u001b[0msplit\u001b[0m\u001b[1;33m(\u001b[0m\u001b[1;33m)\u001b[0m\u001b[1;33m)\u001b[0m\u001b[1;33m\u001b[0m\u001b[1;33m\u001b[0m\u001b[0m\n\u001b[0m\u001b[0;32m      5\u001b[0m \u001b[0mlengths\u001b[0m \u001b[1;33m=\u001b[0m \u001b[1;33m[\u001b[0m\u001b[1;33m]\u001b[0m\u001b[1;33m\u001b[0m\u001b[1;33m\u001b[0m\u001b[0m\n\u001b[0;32m      6\u001b[0m \u001b[1;33m\u001b[0m\u001b[0m\n",
      "\u001b[1;31mValueError\u001b[0m: not enough values to unpack (expected 2, got 0)"
     ]
    }
   ],
   "source": [
    "#1654 랜선 자르기 ※\n",
    "import sys\n",
    "\n",
    "K, N = map(int, sys.stdin.readline().split())\n",
    "lengths = []\n",
    "\n",
    "for i in range(K):\n",
    "    lengths.append(int(sys.stdin.readline()))\n",
    "    \n",
    "max_len = sum(lengths) // N + 1\n",
    "cables = 0\n",
    "\n",
    "while cables < N:\n",
    "    cables = 0\n",
    "    max_len -= 1\n",
    "    for lng in lengths:\n",
    "        cables += lng // max_len\n",
    "        \n",
    "print(max_len)"
   ]
  },
  {
   "cell_type": "code",
   "execution_count": 3,
   "id": "1855e9f3",
   "metadata": {},
   "outputs": [
    {
     "name": "stdout",
     "output_type": "stream",
     "text": [
      "5\n",
      "1 1\n",
      "2 3\n",
      "3 4\n",
      "9 8\n",
      "5 2\n",
      "Case #1: 1 + 1 = 2\n",
      "Case #2: 2 + 3 = 5\n",
      "Case #3: 3 + 4 = 7\n",
      "Case #4: 9 + 8 = 17\n",
      "Case #5: 5 + 2 = 7\n"
     ]
    }
   ],
   "source": [
    "#11022 A+B - 8\n",
    "\n",
    "N = int(input())\n",
    "res = []\n",
    "for i in range(N):\n",
    "    a, b = map(int,input().split())\n",
    "    res.append(f'Case #{i+1}: {a} + {b} = {a+b}')\n",
    "\n",
    "for r in res:\n",
    "    print(r)"
   ]
  },
  {
   "cell_type": "code",
   "execution_count": 5,
   "id": "37ebc732",
   "metadata": {},
   "outputs": [
    {
     "name": "stdout",
     "output_type": "stream",
     "text": [
      "9 10\n",
      "<\n"
     ]
    }
   ],
   "source": [
    "# 1330\n",
    "\n",
    "a , b = map(int, input().split())\n",
    "if a < b:\n",
    "    print(\"<\")\n",
    "elif a > b:\n",
    "    print(\">\")\n",
    "else:\n",
    "    print(\"==\")"
   ]
  },
  {
   "cell_type": "code",
   "execution_count": 21,
   "id": "8a29e7d3",
   "metadata": {},
   "outputs": [
    {
     "name": "stdout",
     "output_type": "stream",
     "text": [
      "5 14\n",
      "1 3 4 5 7\n",
      "7 5 1\n",
      "7 5 3\n",
      "7 4 1\n",
      "7 4 3\n",
      "7 3 1\n",
      "5 4 1\n",
      "5 4 3\n",
      "5 3 1\n",
      "4 3 1\n",
      "14\n"
     ]
    }
   ],
   "source": [
    "#2798 블랙잭\n",
    "\n",
    "N,M = map(int, input().split())\n",
    "cards = list(map(int, input().split()))\n",
    "cards = sorted(cards,reverse = True)\n",
    "hap=[]\n",
    "\n",
    "for i in cards:\n",
    "    for k in cards[(cards.index(i) + 1)::]:\n",
    "        if i + k > M:\n",
    "            break\n",
    "        else:\n",
    "            for j in cards[(len(cards)-1):cards.index(k):-1]:\n",
    "                if i + k + j > M:\n",
    "                    break\n",
    "                else:\n",
    "                    hap.append(i + j + k)\n",
    "                        \n",
    "                                    \n",
    "print(max(hap))"
   ]
  },
  {
   "cell_type": "code",
   "execution_count": 58,
   "id": "77f1629c",
   "metadata": {},
   "outputs": [
    {
     "name": "stdout",
     "output_type": "stream",
     "text": [
      "1 1\n",
      "2\n",
      "2 3\n",
      "5\n",
      "4 2\n",
      "6\n",
      "0 0\n"
     ]
    }
   ],
   "source": [
    "# \n",
    "\n",
    "while True:\n",
    "    a, b = map(int,input().split())\n",
    "    if a == 0 and  b == 0:\n",
    "        break\n",
    "    else:\n",
    "        print(a + b)\n"
   ]
  },
  {
   "cell_type": "code",
   "execution_count": 94,
   "id": "c850befe",
   "metadata": {},
   "outputs": [
    {
     "name": "stdout",
     "output_type": "stream",
     "text": [
      "10\n",
      "20 0\n",
      "10 0\n",
      "4\n",
      "13\n",
      "26 0\n",
      "13 0\n",
      "3\n",
      "10000\n",
      "20000 0\n",
      "10000 0\n",
      "1033\n",
      "100000\n"
     ]
    },
    {
     "ename": "KeyboardInterrupt",
     "evalue": "",
     "output_type": "error",
     "traceback": [
      "\u001b[1;31m---------------------------------------------------------------------------\u001b[0m",
      "\u001b[1;31mKeyboardInterrupt\u001b[0m                         Traceback (most recent call last)",
      "\u001b[1;32m~\\AppData\\Local\\Temp/ipykernel_8180/4139202073.py\u001b[0m in \u001b[0;36m<module>\u001b[1;34m\u001b[0m\n\u001b[0;32m     18\u001b[0m         \u001b[0mprint\u001b[0m\u001b[1;33m(\u001b[0m\u001b[1;36m1\u001b[0m\u001b[1;33m)\u001b[0m\u001b[1;33m\u001b[0m\u001b[1;33m\u001b[0m\u001b[0m\n\u001b[0;32m     19\u001b[0m     \u001b[1;32melse\u001b[0m\u001b[1;33m:\u001b[0m\u001b[1;33m\u001b[0m\u001b[1;33m\u001b[0m\u001b[0m\n\u001b[1;32m---> 20\u001b[1;33m         \u001b[0mprint\u001b[0m\u001b[1;33m(\u001b[0m\u001b[0mfind_prime\u001b[0m\u001b[1;33m(\u001b[0m\u001b[1;36m2\u001b[0m\u001b[1;33m*\u001b[0m\u001b[0mnum\u001b[0m\u001b[1;33m)\u001b[0m \u001b[1;33m-\u001b[0m \u001b[0mfind_prime\u001b[0m\u001b[1;33m(\u001b[0m\u001b[0mnum\u001b[0m\u001b[1;33m)\u001b[0m\u001b[1;33m)\u001b[0m\u001b[1;33m\u001b[0m\u001b[1;33m\u001b[0m\u001b[0m\n\u001b[0m",
      "\u001b[1;32m~\\AppData\\Local\\Temp/ipykernel_8180/4139202073.py\u001b[0m in \u001b[0;36mfind_prime\u001b[1;34m(n)\u001b[0m\n\u001b[0;32m      5\u001b[0m     \u001b[1;32mfor\u001b[0m \u001b[0mi\u001b[0m \u001b[1;32min\u001b[0m \u001b[0mrange\u001b[0m\u001b[1;33m(\u001b[0m\u001b[1;36m2\u001b[0m\u001b[1;33m,\u001b[0m\u001b[0mn\u001b[0m \u001b[1;33m+\u001b[0m \u001b[1;36m1\u001b[0m\u001b[1;33m)\u001b[0m\u001b[1;33m:\u001b[0m\u001b[1;33m\u001b[0m\u001b[1;33m\u001b[0m\u001b[0m\n\u001b[0;32m      6\u001b[0m         \u001b[1;32mfor\u001b[0m \u001b[0mk\u001b[0m \u001b[1;32min\u001b[0m \u001b[0mrange\u001b[0m\u001b[1;33m(\u001b[0m\u001b[1;36m2\u001b[0m\u001b[1;33m,\u001b[0m\u001b[0mi\u001b[0m\u001b[1;33m)\u001b[0m\u001b[1;33m:\u001b[0m\u001b[1;33m\u001b[0m\u001b[1;33m\u001b[0m\u001b[0m\n\u001b[1;32m----> 7\u001b[1;33m             \u001b[1;32mif\u001b[0m \u001b[0mi\u001b[0m \u001b[1;33m%\u001b[0m \u001b[0mk\u001b[0m \u001b[1;33m==\u001b[0m \u001b[1;36m0\u001b[0m\u001b[1;33m:\u001b[0m\u001b[1;33m\u001b[0m\u001b[1;33m\u001b[0m\u001b[0m\n\u001b[0m\u001b[0;32m      8\u001b[0m                 \u001b[0mnotprimes\u001b[0m \u001b[1;33m+=\u001b[0m \u001b[1;36m1\u001b[0m\u001b[1;33m\u001b[0m\u001b[1;33m\u001b[0m\u001b[0m\n\u001b[0;32m      9\u001b[0m                 \u001b[1;32mbreak\u001b[0m\u001b[1;33m\u001b[0m\u001b[1;33m\u001b[0m\u001b[0m\n",
      "\u001b[1;31mKeyboardInterrupt\u001b[0m: "
     ]
    }
   ],
   "source": [
    "#4948 베르트랑 공준 미완\n",
    "\n",
    "def find_prime(n):\n",
    "    notprimes=0\n",
    "    for i in range(2,n + 1):\n",
    "        for k in range(2,i):\n",
    "            if i % k == 0:\n",
    "                notprimes += 1\n",
    "                break\n",
    "    return n - notprimes\n",
    "                \n",
    "while True:\n",
    "    num = int(input())\n",
    "    if num == 0:\n",
    "        break\n",
    "    elif num == 1:\n",
    "        print(1)\n",
    "    else:\n",
    "        print(find_prime(2*num) - find_prime(num))"
   ]
  },
  {
   "cell_type": "code",
   "execution_count": 96,
   "id": "e3c8b428",
   "metadata": {},
   "outputs": [
    {
     "name": "stdout",
     "output_type": "stream",
     "text": [
      "161 181 762 375\n",
      "161\n"
     ]
    }
   ],
   "source": [
    "#1085 직사각형에서 탈출\n",
    "\n",
    "x, y, w, h = map(int, input().split())\n",
    "\n",
    "print(min(w-x, h-y, x-0, y-0))"
   ]
  },
  {
   "cell_type": "code",
   "execution_count": 10,
   "id": "9b78649f",
   "metadata": {},
   "outputs": [
    {
     "name": "stdout",
     "output_type": "stream",
     "text": [
      "8\n",
      "1 2\n",
      "-11 3\n",
      "3\n"
     ]
    }
   ],
   "source": [
    "#2292 벌집\n",
    "\n",
    "N = int(input())\n",
    "N -= 1\n",
    "\n",
    "cells = 1\n",
    "a = 1\n",
    "\n",
    "while N > 0:\n",
    "    N -= a * 6\n",
    "    a += 1\n",
    "    cells += 1\n",
    "\n",
    "print(cells)"
   ]
  },
  {
   "cell_type": "code",
   "execution_count": 12,
   "id": "6788e4b1",
   "metadata": {},
   "outputs": [
    {
     "name": "stdout",
     "output_type": "stream",
     "text": [
      "14\n",
      "14 26456 2 28 13228 3307 7 23149 8 6614 46298 56 4 92596\n",
      "185192\n"
     ]
    }
   ],
   "source": [
    "#1037 약수\n",
    "\n",
    "n = int(input())\n",
    "yaksu = map(int,input().split())\n",
    "yaksu = list(yaksu)\n",
    "\n",
    "print(min(yaksu)*max(yaksu))"
   ]
  },
  {
   "cell_type": "code",
   "execution_count": 31,
   "id": "86e7e333",
   "metadata": {},
   "outputs": [
    {
     "name": "stdout",
     "output_type": "stream",
     "text": [
      "2\n",
      "6\n",
      "9\n",
      "3 "
     ]
    }
   ],
   "source": [
    "#2981 검문 ※미완\n",
    "\n",
    "n = int(input())\n",
    "nums = []\n",
    "for i in range(n):\n",
    "    num = int(input())\n",
    "    nums.append(num)\n",
    "\n",
    "nums = sorted(nums)\n",
    "chai = []         # nums 원소간 차이를 입력\n",
    "\n",
    "for i in range(n-1):\n",
    "    chai.append(nums[i+1]-nums[i])           #chai 완성\n",
    "\n",
    "chai_yaksu=[]\n",
    "\n",
    "for i in range(2, min(chai)+1):             #원소간 차이 중 최소값의 약수들\n",
    "    if min(chai) % i == 0:\n",
    "        chai_yaksu.append(i)\n",
    "\n",
    "\n",
    "for yak in chai_yaksu:\n",
    "    namu = nums[0] % yak\n",
    "    for N in nums:\n",
    "        if N % yak != namu:\n",
    "            chai_yaksu.remove(yak)\n",
    "            break\n",
    "        \n",
    "for i in chai_yaksu:\n",
    "    print(i,end = ' ')\n"
   ]
  },
  {
   "cell_type": "code",
   "execution_count": 34,
   "id": "3e2f72d4",
   "metadata": {},
   "outputs": [
    {
     "name": "stdout",
     "output_type": "stream",
     "text": [
      "9\n",
      "57\n"
     ]
    }
   ],
   "source": [
    "#11654 아스키 코드\n",
    "\n",
    "a = input()\n",
    "\n",
    "print(ord(a))"
   ]
  },
  {
   "cell_type": "code",
   "execution_count": 35,
   "id": "fcda849c",
   "metadata": {},
   "outputs": [
    {
     "name": "stdout",
     "output_type": "stream",
     "text": [
      "5\n",
      "54321\n",
      "15\n"
     ]
    }
   ],
   "source": [
    "#11720 숫자의 합\n",
    "\n",
    "n=int(input())\n",
    "nums=input()\n",
    "sum=0\n",
    "\n",
    "for num in nums:\n",
    "    sum += int(num)\n",
    "\n",
    "print(sum)"
   ]
  },
  {
   "cell_type": "code",
   "execution_count": 40,
   "id": "100f8549",
   "metadata": {},
   "outputs": [
    {
     "name": "stdout",
     "output_type": "stream",
     "text": [
      "baekjoon\n",
      "1 0 -1 -1 2 -1 -1 -1 -1 4 3 -1 -1 7 5 -1 -1 -1 -1 -1 -1 -1 -1 -1 -1 -1 "
     ]
    }
   ],
   "source": [
    "#10809 알파벳 찾기\n",
    "from string import ascii_lowercase\n",
    "letters = list(ascii_lowercase)\n",
    "S = input()\n",
    "\n",
    "for alp in letters:\n",
    "    if alp in S:\n",
    "        print(S.index(alp),end=\" \")\n",
    "    else:\n",
    "        print(-1,end=\" \")"
   ]
  },
  {
   "cell_type": "code",
   "execution_count": 41,
   "id": "cb279cbf",
   "metadata": {},
   "outputs": [
    {
     "name": "stdout",
     "output_type": "stream",
     "text": [
      "24 18\n",
      "6.0\n",
      "72\n"
     ]
    }
   ],
   "source": [
    "#2609 최대공약수와 최소공배수\n",
    "\n",
    "n1, n2 = map(int,input().split())\n",
    "mult1 = 0\n",
    "while True:\n",
    "    mult1 += 1\n",
    "    if (n1 * mult1) % n2 == 0:\n",
    "        break\n",
    "\n",
    "LCM = n1 * mult1\n",
    "GCD = int(n2 / mult1)\n",
    "print(GCD)\n",
    "print(LCM)"
   ]
  },
  {
   "cell_type": "code",
   "execution_count": 44,
   "id": "ddd2360a",
   "metadata": {},
   "outputs": [
    {
     "name": "stdout",
     "output_type": "stream",
     "text": [
      "UNUCIC\n",
      "36\n"
     ]
    }
   ],
   "source": [
    "#5622 다이얼\n",
    "from string import ascii_uppercase\n",
    "LETTERS = list(ascii_uppercase)\n",
    "a=input()\n",
    "time=0\n",
    "\n",
    "for alp in a:\n",
    "    cl = LETTERS.index(alp) + 1\n",
    "    if cl <= 3:\n",
    "        time += 3\n",
    "    elif cl <= 6:\n",
    "        time += 4\n",
    "    elif cl <= 9:\n",
    "        time += 5\n",
    "    elif cl <= 12:\n",
    "        time += 6\n",
    "    elif cl <= 15:\n",
    "        time += 7\n",
    "    elif cl <= 19:\n",
    "        time += 8\n",
    "    elif cl <= 22:\n",
    "        time += 9\n",
    "    else:\n",
    "        time += 10\n",
    "        \n",
    "print(time)"
   ]
  },
  {
   "cell_type": "code",
   "execution_count": 1,
   "id": "2a400671",
   "metadata": {},
   "outputs": [
    {
     "name": "stdout",
     "output_type": "stream",
     "text": [
      "10 9 10\n",
      "9\n"
     ]
    }
   ],
   "source": [
    "a,b,v = map(int, input().split())\n",
    "\n",
    "net = 0\n",
    "tmp = 0\n",
    "\n",
    "# 이전날 먼저 계산\n",
    "day = v//(a-b)\n",
    "if day!=1:\n",
    "    day -= 1\n",
    "#print(day)\n",
    "pre_hit = (day*a)-(day*b) + b\n",
    "\n",
    "\n",
    "if pre_hit >= v:\n",
    "    print(day)\n",
    "elif pre_hit < v: # 31 < 40\n",
    "    for i in range(1,10):\n",
    "        if i ==1:\n",
    "            newhit = pre_hit - b + a\n",
    "        else:\n",
    "            newhit = newhit - b + a\n",
    "        \n",
    "        if newhit >= v:\n",
    "            break\n",
    "    print(day+i)"
   ]
  },
  {
   "cell_type": "code",
   "execution_count": 47,
   "id": "f087282f",
   "metadata": {},
   "outputs": [],
   "source": [
    "#15596 정수 N개의 합\n",
    "\n",
    "def solve(a):\n",
    "    sum = 0\n",
    "    for i in a:\n",
    "        sum += i\n",
    "    return sum\n"
   ]
  },
  {
   "cell_type": "code",
   "execution_count": 50,
   "id": "49e726bd",
   "metadata": {},
   "outputs": [],
   "source": [
    "#4673 셀프 넘버 ※\n",
    "\n",
    "def self_number():\n",
    "    for i in range(1,10001):\n",
    "        if i < 10 and i % 2 == 1:\n",
    "            print(i)\n",
    "        elif i % 11 == 9:\n",
    "            print(i)\n",
    "            \n",
    "\n",
    "            "
   ]
  },
  {
   "cell_type": "code",
   "execution_count": 2,
   "id": "2727aa30",
   "metadata": {},
   "outputs": [
    {
     "name": "stdout",
     "output_type": "stream",
     "text": [
      "10\n",
      "3628800\n"
     ]
    }
   ],
   "source": [
    "#10872 팩토리얼\n",
    "\n",
    "n = int(input())\n",
    "n_fac = 1\n",
    "for i in range(1,n+1):\n",
    "    n_fac *= i\n",
    "    \n",
    "print(n_fac)"
   ]
  },
  {
   "cell_type": "code",
   "execution_count": 11,
   "id": "b7838625",
   "metadata": {},
   "outputs": [
    {
     "name": "stdout",
     "output_type": "stream",
     "text": [
      "0\n",
      "0\n"
     ]
    }
   ],
   "source": [
    "#10870 피보나치 수 5\n",
    "\n",
    "fa=0\n",
    "fb=1\n",
    "\n",
    "n = int(input())\n",
    "\n",
    "if n == 0:\n",
    "    print(0)\n",
    "else:\n",
    "    for i in range(n):\n",
    "        fc = fa + fb\n",
    "        fa, fb = fc, fa\n",
    "    print(fc)"
   ]
  },
  {
   "cell_type": "code",
   "execution_count": 2,
   "id": "a6471a60",
   "metadata": {},
   "outputs": [
    {
     "name": "stdout",
     "output_type": "stream",
     "text": [
      "9\n",
      "['*', '*', '*', '*', '*', '*', '*', '*', '*']\n",
      "['*', '*', '*', '*', '*', '*', '*', '*', '*']\n",
      "['*', '*', '*', '*', '*', '*', '*', '*', '*']\n",
      "['*', '*', '*', '*', '*', '*', '*', '*', '*']\n",
      "['*', '*', '*', '*', '*', '*', '*', '*', '*']\n",
      "['*', '*', '*', '*', '*', '*', '*', '*', '*']\n",
      "['*', '*', '*', '*', '*', '*', '*', '*', '*']\n",
      "['*', '*', '*', '*', '*', '*', '*', '*', '*']\n",
      "['*', '*', '*', '*', '*', '*', '*', '*', '*']\n"
     ]
    }
   ],
   "source": [
    "#2447 별 찍기 10 ※\n",
    "import math\n",
    "\n",
    "n = int(input())\n",
    "k = int(math.log(n,3))\n",
    "        \n",
    "def make_blank(lst):\n",
    "    3 -> 1, 4, 7\n",
    "    9 -> 345\n",
    "    for i in range(n):\n",
    "        for mlt in range(k):\n",
    "            mlt3 = mlt ** 3\n",
    "            namugi = i % mlt3\n",
    "            if namugi >= mlt3 // 3 and namugi < mlt3 // 3 * 2:\n",
    "                lst[i]\n",
    "\n",
    "stars = []\n",
    "for i in range(n):\n",
    "    stars.append([\"*\"]*n)\n",
    "    \n",
    "stars = make_black(stars)\n",
    "for s in stars:\n",
    "    print(s)"
   ]
  },
  {
   "cell_type": "code",
   "execution_count": 39,
   "id": "665e84a9",
   "metadata": {},
   "outputs": [
    {
     "name": "stdout",
     "output_type": "stream",
     "text": [
      "2\n",
      "1\n",
      "3\n",
      "2\n",
      "3\n",
      "6\n",
      "10\n"
     ]
    }
   ],
   "source": [
    "#2775 부녀회장이 될테야\n",
    "\n",
    "n = int(input())\n",
    "\n",
    "def find_members(f, r):\n",
    "    floor = 1\n",
    "    mems = list(range(1,r+1))\n",
    "    while floor <= f:\n",
    "        for i in range(1,r):\n",
    "            mems[i] = mems[i-1] + mems[i]\n",
    "        floor += 1\n",
    "    return mems[-1]\n",
    "\n",
    "members = []\n",
    "for i in range(n):\n",
    "    floor = int(input())\n",
    "    room = int(input())\n",
    "    members.append(find_members(floor,room))\n",
    "    \n",
    "for mem in members:\n",
    "    print(mem)"
   ]
  },
  {
   "cell_type": "code",
   "execution_count": 35,
   "id": "3b8d75c0",
   "metadata": {},
   "outputs": [
    {
     "name": "stdout",
     "output_type": "stream",
     "text": [
      "100\n",
      "A\n"
     ]
    }
   ],
   "source": [
    "#9498 시험 성적\n",
    "\n",
    "n = int(input())\n",
    "\n",
    "if n >= 90:\n",
    "    print(\"A\")\n",
    "elif n >= 80:\n",
    "    print(\"B\")\n",
    "elif n >= 70:\n",
    "    print(\"C\")\n",
    "elif n >= 60:\n",
    "    print(\"D\")\n",
    "else:\n",
    "    print(\"F\")"
   ]
  },
  {
   "cell_type": "code",
   "execution_count": 43,
   "id": "a7a6a40e",
   "metadata": {},
   "outputs": [
    {
     "name": "stdout",
     "output_type": "stream",
     "text": [
      "1900\n"
     ]
    }
   ],
   "source": [
    "#2753 윤년\n",
    "\n",
    "year = int(input())\n",
    "if year % 4 == 0:\n",
    "    if year % 400 == 0 or year % 100 != 0:\n",
    "        print(1)\n",
    "    else:\n",
    "        print(0)\n",
    "else:\n",
    "    print(0)"
   ]
  },
  {
   "cell_type": "code",
   "execution_count": 44,
   "id": "efecb4eb",
   "metadata": {},
   "outputs": [
    {
     "name": "stdout",
     "output_type": "stream",
     "text": [
      "9\n",
      "-13\n",
      "4\n"
     ]
    }
   ],
   "source": [
    "#14681 사분면 고르기\n",
    "x = int(input())\n",
    "y = int(input())\n",
    "if x > 0:\n",
    "    if y > 0:\n",
    "        print(1)\n",
    "    else:\n",
    "        print(4)\n",
    "else:\n",
    "    if y > 0:\n",
    "        print(2)\n",
    "    else:\n",
    "        print(3)"
   ]
  },
  {
   "cell_type": "code",
   "execution_count": 45,
   "id": "714d1455",
   "metadata": {},
   "outputs": [
    {
     "ename": "KeyboardInterrupt",
     "evalue": "Interrupted by user",
     "output_type": "error",
     "traceback": [
      "\u001b[1;31m---------------------------------------------------------------------------\u001b[0m",
      "\u001b[1;31mKeyboardInterrupt\u001b[0m                         Traceback (most recent call last)",
      "\u001b[1;32m~\\AppData\\Local\\Temp/ipykernel_21600/3261449213.py\u001b[0m in \u001b[0;36m<module>\u001b[1;34m\u001b[0m\n\u001b[0;32m      1\u001b[0m \u001b[1;31m#2525 오븐 시계\u001b[0m\u001b[1;33m\u001b[0m\u001b[1;33m\u001b[0m\u001b[0m\n\u001b[1;32m----> 2\u001b[1;33m \u001b[0mhour\u001b[0m\u001b[1;33m,\u001b[0m \u001b[0mminu\u001b[0m \u001b[1;33m=\u001b[0m \u001b[0mmap\u001b[0m\u001b[1;33m(\u001b[0m\u001b[0mint\u001b[0m\u001b[1;33m,\u001b[0m\u001b[0minput\u001b[0m\u001b[1;33m(\u001b[0m\u001b[1;33m)\u001b[0m\u001b[1;33m.\u001b[0m\u001b[0msplit\u001b[0m\u001b[1;33m(\u001b[0m\u001b[1;33m)\u001b[0m\u001b[1;33m)\u001b[0m\u001b[1;33m\u001b[0m\u001b[1;33m\u001b[0m\u001b[0m\n\u001b[0m\u001b[0;32m      3\u001b[0m \u001b[0mtime\u001b[0m \u001b[1;33m=\u001b[0m \u001b[0mint\u001b[0m\u001b[1;33m(\u001b[0m\u001b[0minput\u001b[0m\u001b[1;33m(\u001b[0m\u001b[1;33m)\u001b[0m\u001b[1;33m)\u001b[0m\u001b[1;33m\u001b[0m\u001b[1;33m\u001b[0m\u001b[0m\n\u001b[0;32m      4\u001b[0m \u001b[1;33m\u001b[0m\u001b[0m\n\u001b[0;32m      5\u001b[0m \u001b[0madd_h\u001b[0m \u001b[1;33m=\u001b[0m \u001b[0mtime\u001b[0m \u001b[1;33m//\u001b[0m \u001b[1;36m60\u001b[0m\u001b[1;33m\u001b[0m\u001b[1;33m\u001b[0m\u001b[0m\n",
      "\u001b[1;32mD:\\Users\\uj200\\anaconda3\\lib\\site-packages\\ipykernel\\kernelbase.py\u001b[0m in \u001b[0;36mraw_input\u001b[1;34m(self, prompt)\u001b[0m\n\u001b[0;32m   1004\u001b[0m                 \u001b[1;34m\"raw_input was called, but this frontend does not support input requests.\"\u001b[0m\u001b[1;33m\u001b[0m\u001b[1;33m\u001b[0m\u001b[0m\n\u001b[0;32m   1005\u001b[0m             )\n\u001b[1;32m-> 1006\u001b[1;33m         return self._input_request(\n\u001b[0m\u001b[0;32m   1007\u001b[0m             \u001b[0mstr\u001b[0m\u001b[1;33m(\u001b[0m\u001b[0mprompt\u001b[0m\u001b[1;33m)\u001b[0m\u001b[1;33m,\u001b[0m\u001b[1;33m\u001b[0m\u001b[1;33m\u001b[0m\u001b[0m\n\u001b[0;32m   1008\u001b[0m             \u001b[0mself\u001b[0m\u001b[1;33m.\u001b[0m\u001b[0m_parent_ident\u001b[0m\u001b[1;33m[\u001b[0m\u001b[1;34m\"shell\"\u001b[0m\u001b[1;33m]\u001b[0m\u001b[1;33m,\u001b[0m\u001b[1;33m\u001b[0m\u001b[1;33m\u001b[0m\u001b[0m\n",
      "\u001b[1;32mD:\\Users\\uj200\\anaconda3\\lib\\site-packages\\ipykernel\\kernelbase.py\u001b[0m in \u001b[0;36m_input_request\u001b[1;34m(self, prompt, ident, parent, password)\u001b[0m\n\u001b[0;32m   1049\u001b[0m             \u001b[1;32mexcept\u001b[0m \u001b[0mKeyboardInterrupt\u001b[0m\u001b[1;33m:\u001b[0m\u001b[1;33m\u001b[0m\u001b[1;33m\u001b[0m\u001b[0m\n\u001b[0;32m   1050\u001b[0m                 \u001b[1;31m# re-raise KeyboardInterrupt, to truncate traceback\u001b[0m\u001b[1;33m\u001b[0m\u001b[1;33m\u001b[0m\u001b[0m\n\u001b[1;32m-> 1051\u001b[1;33m                 \u001b[1;32mraise\u001b[0m \u001b[0mKeyboardInterrupt\u001b[0m\u001b[1;33m(\u001b[0m\u001b[1;34m\"Interrupted by user\"\u001b[0m\u001b[1;33m)\u001b[0m \u001b[1;32mfrom\u001b[0m \u001b[1;32mNone\u001b[0m\u001b[1;33m\u001b[0m\u001b[1;33m\u001b[0m\u001b[0m\n\u001b[0m\u001b[0;32m   1052\u001b[0m             \u001b[1;32mexcept\u001b[0m \u001b[0mException\u001b[0m\u001b[1;33m:\u001b[0m\u001b[1;33m\u001b[0m\u001b[1;33m\u001b[0m\u001b[0m\n\u001b[0;32m   1053\u001b[0m                 \u001b[0mself\u001b[0m\u001b[1;33m.\u001b[0m\u001b[0mlog\u001b[0m\u001b[1;33m.\u001b[0m\u001b[0mwarning\u001b[0m\u001b[1;33m(\u001b[0m\u001b[1;34m\"Invalid Message:\"\u001b[0m\u001b[1;33m,\u001b[0m \u001b[0mexc_info\u001b[0m\u001b[1;33m=\u001b[0m\u001b[1;32mTrue\u001b[0m\u001b[1;33m)\u001b[0m\u001b[1;33m\u001b[0m\u001b[1;33m\u001b[0m\u001b[0m\n",
      "\u001b[1;31mKeyboardInterrupt\u001b[0m: Interrupted by user"
     ]
    },
    {
     "name": "stdout",
     "output_type": "stream",
     "text": [
      "\n"
     ]
    }
   ],
   "source": [
    "#2525 오븐 시계\n",
    "hour, minu = map(int,input().split())\n",
    "time = int(input())\n",
    "\n",
    "add_h = time // 60\n",
    "add_m = time % 60\n",
    "\n",
    "if add_m + minu >= 60:\n",
    "    add_h += 1\n",
    "    add_m -= 60\n",
    "    \n",
    "fin_h = (hour + add_h) % 24\n",
    "fin_m = minu + add_m\n",
    "\n",
    "print(fin_h, fin_m)"
   ]
  },
  {
   "cell_type": "code",
   "execution_count": 46,
   "id": "1ab62687",
   "metadata": {},
   "outputs": [
    {
     "name": "stdout",
     "output_type": "stream",
     "text": [
      "5\n",
      "*\n",
      "**\n",
      "***\n",
      "****\n",
      "*****\n"
     ]
    }
   ],
   "source": [
    "#2438 별 찍기\n",
    "n = int(input())\n",
    "a = \"\"\n",
    "for i in range(n):\n",
    "    a = f'{a}*'\n",
    "    print(a)"
   ]
  },
  {
   "cell_type": "code",
   "execution_count": 3,
   "id": "bc7717e7",
   "metadata": {},
   "outputs": [
    {
     "name": "stdout",
     "output_type": "stream",
     "text": [
      "3\n",
      "29\n",
      "2\n",
      "2\n",
      "2\n",
      "2\n",
      "2\n",
      "85\n",
      "2\n",
      "85\n",
      "7\n"
     ]
    }
   ],
   "source": [
    "#2562 최댓값\n",
    "\n",
    "num=[]\n",
    "for i in range(9):\n",
    "    n = int(input())\n",
    "    num.append(n)\n",
    "    \n",
    "m = max(num)\n",
    "\n",
    "print(m)\n",
    "print(num.index(m)+1)"
   ]
  },
  {
   "cell_type": "code",
   "execution_count": 9,
   "id": "870eedb8",
   "metadata": {},
   "outputs": [
    {
     "name": "stdout",
     "output_type": "stream",
     "text": [
      "2\n",
      "3 abc\n",
      "5 ;htp\n",
      "aaabbbccc\n",
      ";;;;;hhhhhtttttppppp\n"
     ]
    }
   ],
   "source": [
    "#2675 문자열 반복\n",
    "\n",
    "n = int(input())\n",
    "res = []\n",
    "for i in range(n):\n",
    "    n , s = input().split()\n",
    "    news=''\n",
    "    for spel in s:\n",
    "        for time in range(int(n)):\n",
    "            news = f'{news}{spel}'\n",
    "    res.append(news)\n",
    "    \n",
    "for newstr in res:\n",
    "    print(newstr)"
   ]
  },
  {
   "cell_type": "code",
   "execution_count": 10,
   "id": "1ee1bb44",
   "metadata": {},
   "outputs": [
    {
     "name": "stdout",
     "output_type": "stream",
     "text": [
      "2\n",
      "2 * 1 = 2\n",
      "2 * 2 = 4\n",
      "2 * 3 = 6\n",
      "2 * 4 = 8\n",
      "2 * 5 = 10\n",
      "2 * 6 = 12\n",
      "2 * 7 = 14\n",
      "2 * 8 = 16\n",
      "2 * 9 = 18\n"
     ]
    }
   ],
   "source": [
    "#2739 구구단\n",
    "\n",
    "n = int(input())\n",
    "\n",
    "for i in range(1,10):\n",
    "    print(f'{n} * {i} = {n*i}')"
   ]
  },
  {
   "cell_type": "code",
   "execution_count": 12,
   "id": "1d739522",
   "metadata": {},
   "outputs": [
    {
     "name": "stdout",
     "output_type": "stream",
     "text": [
      "8 7 6 5 4 3 2 1\n",
      "mixed\n"
     ]
    }
   ],
   "source": [
    "#2920 음계\n",
    "\n",
    "doremi = map(int,input().split())\n",
    "doremi = list(doremi)\n",
    "\n",
    "if doremi == list(range(1,9)):\n",
    "    print(\"ascending\")\n",
    "elif doremi == [8,7,6,5,4,3,2,1]:\n",
    "    print(\"descending\")\n",
    "else:\n",
    "    print(\"mixed\")"
   ]
  },
  {
   "cell_type": "code",
   "execution_count": 20,
   "id": "5f712c17",
   "metadata": {},
   "outputs": [
    {
     "name": "stdout",
     "output_type": "stream",
     "text": [
      "5\n",
      "OOXXOXXOOO\n",
      "OOXXOOXXOO\n",
      "OXOXOXOXOXOXOX\n",
      "OOOOOOOOOO\n",
      "OOOOXOOOOXOOOOX\n",
      "10\n",
      "9\n",
      "7\n",
      "55\n",
      "30\n"
     ]
    }
   ],
   "source": [
    "#8958  OX퀴즈\n",
    "n = int(input())\n",
    "points=[]\n",
    "\n",
    "for i in range(n):\n",
    "    Os = list(input().split(\"X\"))\n",
    "    point = 0\n",
    "\n",
    "    for O in Os:\n",
    "        for i in range(len(O)+1):\n",
    "            point += i\n",
    "            \n",
    "    points.append(point)\n",
    "    \n",
    "for p in points:\n",
    "    print(p)"
   ]
  },
  {
   "cell_type": "code",
   "execution_count": 21,
   "id": "32b5d6a4",
   "metadata": {},
   "outputs": [
    {
     "name": "stdout",
     "output_type": "stream",
     "text": [
      "5\n",
      "20 10 35 30 7\n",
      "7 35\n"
     ]
    }
   ],
   "source": [
    "#10818 최소, 최대\n",
    "\n",
    "n = int(input())\n",
    "nums = map(int,input().split())\n",
    "nums = list(nums)\n",
    "\n",
    "print(f'{min(nums)} {max(nums)}')"
   ]
  },
  {
   "cell_type": "code",
   "execution_count": 23,
   "id": "2627ec9d",
   "metadata": {},
   "outputs": [
    {
     "name": "stdout",
     "output_type": "stream",
     "text": [
      "5\n",
      "1 1\n",
      "2 3\n",
      "3 4\n",
      "9 8\n",
      "5 2\n",
      "2\n",
      "5\n",
      "7\n",
      "17\n",
      "7\n"
     ]
    }
   ],
   "source": [
    "#10950 A+B -3\n",
    "n = int(input())\n",
    "results = []\n",
    "for i in range(n):\n",
    "    a, b = map(int,input().split())\n",
    "    results.append(a+b)\n",
    "\n",
    "for res in results:\n",
    "    print(res)"
   ]
  },
  {
   "cell_type": "code",
   "execution_count": 30,
   "id": "457216c2",
   "metadata": {},
   "outputs": [
    {
     "name": "stdout",
     "output_type": "stream",
     "text": [
      "3 9\n",
      "12\n",
      "2 4\n",
      "6\n",
      "\n"
     ]
    }
   ],
   "source": [
    "#10951 A+B -4\n",
    "\n",
    "while True:\n",
    "    try:\n",
    "        a, b = map(int,input().split())\n",
    "        print(a+b)\n",
    "    except:\n",
    "        break"
   ]
  },
  {
   "cell_type": "code",
   "execution_count": 1,
   "id": "d27106bf",
   "metadata": {},
   "outputs": [
    {
     "name": "stdout",
     "output_type": "stream",
     "text": [
      "The Curious Case of Benjamin Button\n",
      "6\n"
     ]
    }
   ],
   "source": [
    "#1152 단어의 개수\n",
    "\n",
    "S = list(input().split())\n",
    "print(len(S))\n"
   ]
  },
  {
   "cell_type": "code",
   "execution_count": 34,
   "id": "17985231",
   "metadata": {},
   "outputs": [
    {
     "name": "stdout",
     "output_type": "stream",
     "text": [
      "zZa\n",
      "Z\n"
     ]
    }
   ],
   "source": [
    "#1157 단어 공부 ※\n",
    "\n",
    "word = list(input().upper())\n",
    "times = []\n",
    "newword = list(set(word))\n",
    "\n",
    "for w in newword:\n",
    "    times.append(word.count(w))\n",
    "\n",
    "max_t = max(times)\n",
    "\n",
    "if times.count(max_t) > 1:\n",
    "    print(\"?\")\n",
    "else:\n",
    "    print(newword[times.index(max(times))])"
   ]
  },
  {
   "cell_type": "code",
   "execution_count": 29,
   "id": "98dcf4b1",
   "metadata": {},
   "outputs": [
    {
     "name": "stdout",
     "output_type": "stream",
     "text": [
      "3\n",
      "40 80 60\n",
      "75.0\n"
     ]
    }
   ],
   "source": [
    "#1546 평균\n",
    "\n",
    "N = int(input())\n",
    "scores = list(map(int,input().split()))\n",
    "best = max(scores)\n",
    "print(sum(scores)/best * 100 / N)"
   ]
  },
  {
   "cell_type": "code",
   "execution_count": 52,
   "id": "d8ae62b9",
   "metadata": {},
   "outputs": [
    {
     "name": "stdout",
     "output_type": "stream",
     "text": [
      "5\n",
      "aa\n",
      "ak\n",
      "ab\n",
      "ai\n",
      "ak\n",
      "aa\n",
      "ab\n",
      "ai\n",
      "ak\n",
      "aa\n",
      "ab\n",
      "ai\n",
      "ak\n"
     ]
    }
   ],
   "source": [
    "#1181 단어 정렬 ※※\n",
    "import sys\n",
    "\n",
    "N = int(input())\n",
    "words = []\n",
    "\n",
    "for i in range(N):\n",
    "    w = input()\n",
    "    words.append(w)\n",
    "          \n",
    "words = sorted(list(set(words)))\n",
    "lengths = [0] * 51\n",
    "\n",
    "for i in range(len(words)):\n",
    "    lengths[len(words[i])] += 1\n",
    "\n",
    "for i in range(51):\n",
    "    for k in range(i):\n",
    "        for word in words:\n",
    "            if i == len(word):\n",
    "                print(word)\n",
    "    "
   ]
  },
  {
   "cell_type": "code",
   "execution_count": null,
   "id": "ed65e9cc",
   "metadata": {},
   "outputs": [],
   "source": []
  },
  {
   "cell_type": "code",
   "execution_count": null,
   "id": "a24d6eec",
   "metadata": {},
   "outputs": [],
   "source": []
  },
  {
   "cell_type": "code",
   "execution_count": null,
   "id": "97b182c9",
   "metadata": {},
   "outputs": [],
   "source": []
  },
  {
   "cell_type": "code",
   "execution_count": 2,
   "id": "4ba1a75e",
   "metadata": {
    "scrolled": true
   },
   "outputs": [
    {
     "name": "stdout",
     "output_type": "stream",
     "text": [
      "0 4 2 5 6\n",
      "81 1\n"
     ]
    }
   ],
   "source": [
    "#2475 검증수\n",
    "\n",
    "a, b, c, d, e = map(int,input().split())\n",
    "sqr = a**2 + b**2 + c**2 + d**2 + e**2\n",
    "\n",
    "print(sqr % 10)\n"
   ]
  },
  {
   "cell_type": "code",
   "execution_count": 32,
   "id": "2aa41c69",
   "metadata": {},
   "outputs": [
    {
     "name": "stdout",
     "output_type": "stream",
     "text": [
      "Mississipi\n",
      "S\n"
     ]
    }
   ],
   "source": [
    "word = list(input().upper())\n",
    "print(max(word))"
   ]
  },
  {
   "cell_type": "markdown",
   "id": "9b7bbb1c",
   "metadata": {},
   "source": [
    "## "
   ]
  },
  {
   "cell_type": "code",
   "execution_count": 1,
   "id": "d71b8627",
   "metadata": {},
   "outputs": [
    {
     "name": "stdout",
     "output_type": "stream",
     "text": [
      "5\n",
      "1\n",
      "2\n",
      "3\n",
      "4\n",
      "5\n"
     ]
    }
   ],
   "source": [
    "#2741 N찍기\n",
    "\n",
    "N = int(input())\n",
    "\n",
    "for i in range(N):\n",
    "    print(i+1)"
   ]
  },
  {
   "cell_type": "code",
   "execution_count": 3,
   "id": "11deb40a",
   "metadata": {},
   "outputs": [
    {
     "name": "stdout",
     "output_type": "stream",
     "text": [
      "7\n",
      "7\n",
      "6\n",
      "5\n",
      "4\n",
      "3\n",
      "2\n",
      "1\n"
     ]
    }
   ],
   "source": [
    "#2742 기찍N\n",
    "\n",
    "N = int(input())\n",
    "\n",
    "for i in range(N):\n",
    "    print(N - i)"
   ]
  },
  {
   "cell_type": "code",
   "execution_count": 5,
   "id": "aa953ea5",
   "metadata": {},
   "outputs": [
    {
     "name": "stdout",
     "output_type": "stream",
     "text": [
      "221 231\n",
      "132\n"
     ]
    }
   ],
   "source": [
    "#2908 상수\n",
    "\n",
    "a, b = input().split()\n",
    "\n",
    "a = int(a[2]+a[1]+a[0]);b = int(b[2]+b[1]+b[0])\n",
    "\n",
    "print(max(a,b))"
   ]
  },
  {
   "cell_type": "code",
   "execution_count": null,
   "id": "eec454a9",
   "metadata": {},
   "outputs": [],
   "source": [
    "#3052 나머지\n",
    "nums = []\n",
    "namugi = []\n",
    "for i in range(10):\n",
    "    nums.append(int(input()))\n",
    "\n",
    "for n in nums:\n",
    "    namugi.append(n % 42)\n",
    "\n",
    "print(len(set(namugi)))"
   ]
  },
  {
   "cell_type": "code",
   "execution_count": 12,
   "id": "57d24976",
   "metadata": {},
   "outputs": [
    {
     "name": "stdout",
     "output_type": "stream",
     "text": [
      "5 3\n",
      "1 4 2 8 6\n",
      "1 2 "
     ]
    }
   ],
   "source": [
    "#10871 X보다 작은 수\n",
    "\n",
    "N, X = map(int,input().split())\n",
    "A = list(map(int,input().split()))\n",
    "\n",
    "for i in A:\n",
    "    if i < X:\n",
    "        print(i,end=\" \")"
   ]
  },
  {
   "cell_type": "code",
   "execution_count": null,
   "id": "2aaa0b52",
   "metadata": {},
   "outputs": [],
   "source": [
    "#1025 제곱수 찾기\n",
    "import math\n",
    "\n",
    "def find_zegobsu(n):\n",
    "    if n == int(math.sqrt(n))**2:\n",
    "        return True\n",
    "    else:\n",
    "        return False\n",
    "    \n",
    "N, M = map(int,input().split())\n",
    "mx = max(N,M); mn = min(N,M)\n",
    "\n"
   ]
  },
  {
   "cell_type": "code",
   "execution_count": null,
   "id": "b154b044",
   "metadata": {},
   "outputs": [],
   "source": [
    "#1068 트리\n",
    "\n",
    "N = int(input())\n",
    "trees = list(map(int,input().split()))\n",
    "rmv = int(input())\n",
    "\n",
    "if rmv == 0:\n",
    "    print(0)\n",
    "else:\n",
    "    baby = trees.count(rmv)\n",
    "    ##함수 만들어서 부모노드랑 연결된 자식노드 다 찾아내고 지우기\n",
    "    #그리고나서 남은 애들중에서 값 제일 큰 게 몇갠지 세고 rmv 부모도 리프노드가 됐는지 판별"
   ]
  },
  {
   "cell_type": "code",
   "execution_count": null,
   "id": "94b9c980",
   "metadata": {},
   "outputs": [],
   "source": []
  },
  {
   "cell_type": "code",
   "execution_count": 5,
   "id": "66e0143d",
   "metadata": {},
   "outputs": [
    {
     "name": "stdout",
     "output_type": "stream",
     "text": [
      "121\n",
      "['1', '2', '1'] ['1', '2', '1']\n",
      "yes\n",
      "1231\n",
      "no\n",
      "12421\n",
      "['1', '2', '4', '2', '1'] ['1', '2', '4', '2', '1']\n",
      "yes\n",
      "0\n"
     ]
    }
   ],
   "source": [
    "#1259 팰린드롬수\n",
    "\n",
    "while True:\n",
    "    N = input()\n",
    "    if int(N) == 0:\n",
    "        break\n",
    "    else:\n",
    "        rev = list(N)\n",
    "        N = list(N)\n",
    "        N.reverse()\n",
    "        if rev == N:\n",
    "            print(\"yes\")\n",
    "        else:\n",
    "            print(\"no\")\n",
    "        "
   ]
  },
  {
   "cell_type": "code",
   "execution_count": 23,
   "id": "f3df2eb2",
   "metadata": {},
   "outputs": [
    {
     "name": "stdout",
     "output_type": "stream",
     "text": [
      "6 8 10\n",
      "25 52 60\n",
      "5 12 13\n",
      "0 0 0\n",
      "right\n",
      "wrong\n",
      "right\n"
     ]
    }
   ],
   "source": [
    "#4153 직각삼각형\n",
    "res = []\n",
    "\n",
    "while True:\n",
    "    lengths = list(map(int,input().split()))\n",
    "    if lengths == [0,0,0]:\n",
    "        break\n",
    "    else:\n",
    "        lengths = sorted(lengths)\n",
    "\n",
    "        if lengths[2]**2 == lengths[1]**2 + lengths[0]**2:\n",
    "            res.append(\"right\")\n",
    "        else:\n",
    "            res.append(\"wrong\")\n",
    "            \n",
    "for r in res:\n",
    "    print(r)"
   ]
  },
  {
   "cell_type": "code",
   "execution_count": 44,
   "id": "56a1fcdf",
   "metadata": {},
   "outputs": [
    {
     "name": "stdout",
     "output_type": "stream",
     "text": [
      "8 3\n",
      "56\n"
     ]
    }
   ],
   "source": [
    "#11050 이항 계수 1\n",
    "\n",
    "n, k = map(int,input().split())\n",
    "res = 1\n",
    "if k < n/2:\n",
    "    for i in range(k):\n",
    "        res *= n / k\n",
    "        n -= 1\n",
    "        k -= 1\n",
    "else:\n",
    "    for i in range(n-k):\n",
    "        res *= n / (n - k)\n",
    "        n -= 1\n",
    "        \n",
    "print(round(res))"
   ]
  },
  {
   "cell_type": "code",
   "execution_count": 13,
   "id": "8b2fc6dd",
   "metadata": {
    "scrolled": true
   },
   "outputs": [
    {
     "name": "stdout",
     "output_type": "stream",
     "text": [
      "5\n",
      "    *\n",
      "   **\n",
      "  ***\n",
      " ****\n",
      "*****\n"
     ]
    }
   ],
   "source": [
    "#2439 별 찍기 - 2\n",
    "\n",
    "N = int(input())\n",
    "s = ''\n",
    "\n",
    "for i in range(N):\n",
    "    s = f'{s}*'\n",
    "    print(f\"{' '*(N - i - 1)}{s}\")"
   ]
  },
  {
   "cell_type": "code",
   "execution_count": 9,
   "id": "ed66a43e",
   "metadata": {},
   "outputs": [
    {
     "name": "stdout",
     "output_type": "stream",
     "text": [
      "3\n",
      "6\n"
     ]
    }
   ],
   "source": [
    "#8393 합\n",
    "\n",
    "n = int(input())\n",
    "s = 0\n",
    "for i in range(n+1):\n",
    "    s += i\n",
    "print(s)"
   ]
  },
  {
   "cell_type": "code",
   "execution_count": 74,
   "id": "55c0aa02",
   "metadata": {
    "scrolled": false
   },
   "outputs": [
    {
     "name": "stdout",
     "output_type": "stream",
     "text": [
      "5000\n",
      "1000\n"
     ]
    }
   ],
   "source": [
    "#2893 설탕 배달\n",
    "\n",
    "N = int(input())\n",
    "\n",
    "def nanugi(N):\n",
    "    for i in [0,3,6,9,12]:\n",
    "        if (N - i) % 5 == 0:\n",
    "            return i\n",
    "    return False\n",
    "    \n",
    "\n",
    "if N < 15 and N % 3 == 0:\n",
    "    print(N // 3)\n",
    "elif N % 5 == 0:\n",
    "    print(N // 5)\n",
    "elif N > 7 and nanugi(N) != False:\n",
    "    mini = nanugi(N) // 3\n",
    "    big = (N - nanugi(N)) // 5\n",
    "    print(mini+big)\n",
    "else:\n",
    "    print(-1)"
   ]
  },
  {
   "cell_type": "code",
   "execution_count": 108,
   "id": "87d79eb2",
   "metadata": {
    "scrolled": false
   },
   "outputs": [
    {
     "name": "stdout",
     "output_type": "stream",
     "text": [
      "3 3 6\n",
      "1300\n"
     ]
    }
   ],
   "source": [
    "#2480 주사위 세 개\n",
    "\n",
    "nums = list(map(int,input().split()))\n",
    "\n",
    "if len(set(nums))==1:\n",
    "    print(10000 + nums[0] * 1000)\n",
    "elif len(set(nums))==2:\n",
    "    if nums[0] == nums[1] or nums[0] == nums[2]:\n",
    "        print(1000 + nums[0] * 100)\n",
    "    else:\n",
    "        print(1000 + nums[1] * 100)  \n",
    "else:\n",
    "    print(max(nums) * 100)"
   ]
  },
  {
   "cell_type": "code",
   "execution_count": null,
   "id": "4f03ae51",
   "metadata": {},
   "outputs": [],
   "source": [
    "#5086 배수와 약수\n",
    "\n",
    "while True:\n",
    "    a, b = map(int, input().split())\n",
    "    if a==0 and b==0:\n",
    "        break\n",
    "    elif a > 0 and b % a == 0:\n",
    "        print(\"factor\")\n",
    "    elif b > 0 and a % b == 0:\n",
    "        print(\"multiple\")\n",
    "    else:\n",
    "        print(\"neither\")"
   ]
  },
  {
   "cell_type": "code",
   "execution_count": 2,
   "id": "baebe15f",
   "metadata": {
    "scrolled": true
   },
   "outputs": [
    {
     "name": "stdout",
     "output_type": "stream",
     "text": [
      "150 266 427\n",
      "3\n",
      "1\n",
      "0\n",
      "2\n",
      "0\n",
      "0\n",
      "0\n",
      "2\n",
      "0\n",
      "0\n"
     ]
    }
   ],
   "source": [
    "# 2577 숫자의 개수\n",
    "\n",
    "a = int(input())\n",
    "b = int(input())\n",
    "c = int(input())\n",
    "\n",
    "d = a*b*c\n",
    "d = list(str(d))\n",
    "for i in range(10):\n",
    "    print(d.count(str(i)))"
   ]
  },
  {
   "cell_type": "code",
   "execution_count": 109,
   "id": "35287845",
   "metadata": {
    "scrolled": true
   },
   "outputs": [
    {
     "name": "stdout",
     "output_type": "stream",
     "text": [
      "name : 기사\n",
      "level : 12\n",
      "sword : 불꽃의 검\n",
      "armor : 풀플레이트\n",
      "skill : 베기\n",
      "skill : 강하게 베기\n",
      "skill : 아주 강하게 베기\n"
     ]
    }
   ],
   "source": [
    "# + 패럿 오티\n",
    "\n",
    "character = {\n",
    "    'name' : '기사',\n",
    "    'level' : 12,\n",
    "    'items' :{\n",
    "        'sword' : '불꽃의 검',\n",
    "        'armor' : '풀플레이트'\n",
    "    },\n",
    "    'skill' : ['베기', '강하게 베기', '아주 강하게 베기']\n",
    "}\n",
    "for K, V in character.items():\n",
    "    if type(V) is dict:\n",
    "        for k, v in V.items():\n",
    "            print(f'{k} : {v}')\n",
    "            \n",
    "    elif type(V) is list:\n",
    "        for v in V:\n",
    "            print(f'{K} : {v}')\n",
    "            \n",
    "    else:\n",
    "        print(f'{K} : {V}')\n"
   ]
  },
  {
   "cell_type": "code",
   "execution_count": 93,
   "id": "ac6f6fa7",
   "metadata": {},
   "outputs": [
    {
     "name": "stdout",
     "output_type": "stream",
     "text": [
      "25\n",
      "2\n"
     ]
    }
   ],
   "source": [
    "#ot 2\n",
    "\n",
    "class Rectangle:\n",
    "    count = 0\n",
    "    sum_area = 0\n",
    " \n",
    " # 초기자(initializer)\n",
    "    def __init__(self, width, height):\n",
    "        self.width = width\n",
    "        self.height = height\n",
    "        Rectangle.count += 1\n",
    " \n",
    " # 메서드\n",
    "    def calcArea(self): # 넓이 계산\n",
    "        area = self.width * self.height\n",
    "        Rectangle.sum_area += area\n",
    "        return area\n",
    "    \n",
    "sq1 = Rectangle(5,5)\n",
    "print(Rectangle.calcArea(sq1))\n",
    "\n",
    "sq2 = Rectangle(4,6)\n",
    "print(Rectangle.count)"
   ]
  },
  {
   "cell_type": "code",
   "execution_count": 97,
   "id": "6f429e9a",
   "metadata": {},
   "outputs": [
    {
     "name": "stdout",
     "output_type": "stream",
     "text": [
      "3 -1 30 0.875\n"
     ]
    }
   ],
   "source": [
    "#ot3\n",
    "\n",
    "class calc:\n",
    "    def __init__(self, num1, num2):\n",
    "        self.num1 = num1\n",
    "        self.num2 = num2\n",
    "        \n",
    "    def plus(self):\n",
    "        return self.num1 + self.num2\n",
    "    \n",
    "    def minus(self):\n",
    "        return self.num1 - self.num2\n",
    "    \n",
    "    def mult(self):\n",
    "        return self.num1 * self.num2\n",
    "    \n",
    "    def divi(self):\n",
    "        return self.num1 / self.num2\n",
    "    \n",
    "sets = [calc(1,2), calc(3,4), calc(5,6), calc(7,8)]\n",
    "print(calc.plus(sets[0]), calc.minus(sets[1]), calc.mult(sets[2]), calc.divi(sets[3]))"
   ]
  },
  {
   "cell_type": "code",
   "execution_count": 17,
   "id": "760a35bb",
   "metadata": {},
   "outputs": [
    {
     "name": "stdout",
     "output_type": "stream",
     "text": [
      "10 2 10\n",
      "1\n"
     ]
    }
   ],
   "source": [
    "#2869 달팽이는 올라가고 싶다\n",
    "\n",
    "A, B, V = map(int,input().split())\n",
    "\n",
    "day = 1\n",
    "height = A\n",
    "if A == V:\n",
    "    pass\n",
    "elif (V - A) % (A - B):\n",
    "    day += (V - A) // (A - B) + 1\n",
    "else:\n",
    "    day += (V - A) // (A - B) \n",
    "print(day)"
   ]
  },
  {
   "cell_type": "code",
   "execution_count": 18,
   "id": "1a567512",
   "metadata": {},
   "outputs": [
    {
     "name": "stdout",
     "output_type": "stream",
     "text": [
      "216\n",
      "198\n"
     ]
    }
   ],
   "source": [
    "#2231 분해합\n",
    "\n",
    "N_s = input()\n",
    "N = int(N_s)\n",
    "m_N = int(N_s[0]) - 1 + (len(N_s) - 1)*9\n",
    "res = 0\n",
    "\n",
    "for num in range(N - m_N,N):\n",
    "    target = num\n",
    "    for i in str(num):\n",
    "        target += int(i)\n",
    "        \n",
    "    if target == N:\n",
    "        res = num\n",
    "        break\n",
    "        \n",
    "print(res)"
   ]
  },
  {
   "cell_type": "code",
   "execution_count": 20,
   "id": "d03e58d9",
   "metadata": {},
   "outputs": [
    {
     "name": "stdout",
     "output_type": "stream",
     "text": [
      "4\n",
      "2\n",
      "5\n",
      "3\n",
      "5\n",
      "2\n",
      "3\n",
      "5\n",
      "5\n"
     ]
    }
   ],
   "source": [
    "#10989 수 정렬하기 3 *참고*\n",
    "\n",
    "import sys\n",
    "\n",
    "N = int(sys.stdin.readline())\n",
    "nums = [0]*10001\n",
    "\n",
    "for i in range(N):\n",
    "    nums[int(sys.stdin.readline())]+=1\n",
    "\n",
    "for i in range(10001):\n",
    "    if nums[i] !=0:\n",
    "        for cnt in range(nums[i]):\n",
    "            print(i)"
   ]
  },
  {
   "cell_type": "code",
   "execution_count": 1,
   "id": "f274d542",
   "metadata": {},
   "outputs": [
    {
     "name": "stdout",
     "output_type": "stream",
     "text": [
      "5\n",
      "3 4\n",
      "1 1\n",
      "1 -1\n",
      "2 2\n",
      "3 3\n",
      "1 1 1\n",
      "1 1 1\n",
      "2 2 3\n",
      "3 4 0\n",
      "3 4 0\n"
     ]
    }
   ],
   "source": [
    "#11650 좌표 정렬하기 ※\n",
    "\n",
    "N = int(input())\n",
    "x_list = []\n",
    "y_list = []\n",
    "\n",
    "for i in range(N):\n",
    "    x, y = map(int,input().split())\n",
    "    x_list.append(x)\n",
    "    y_list.append(y)\n",
    "    "
   ]
  },
  {
   "cell_type": "code",
   "execution_count": null,
   "id": "9f97319e",
   "metadata": {},
   "outputs": [],
   "source": [
    "#1436 영화감독 숌 ※\n",
    "\n",
    "jongmal = []\n",
    "\n",
    "666 1개\n",
    "\n",
    "1666 2666 3666 4666 5666  7666 8666 9666      8개\n",
    "6660 6661 6662 6663 6664 6665 6666 6667 6668 6669         10개 \n",
    "\n",
    "10666 *(1 + 18) * 8\n",
    "66600       100개\n",
    "\n",
    "def find_jongmal(n):\n",
    "    keypt = [8]\n",
    "    tens = 1\n",
    "    while keypt[-1] <= 10000:\n",
    "        tens *= 10\n",
    "        keypt[-1] = sum(keypt)*8 + tens\n",
    "    print(keypt)\n",
    "    \n",
    "\n",
    "    "
   ]
  },
  {
   "cell_type": "markdown",
   "id": "6da2501f",
   "metadata": {},
   "source": [
    "#1929 소수 구하기 *참조\n",
    "\n",
    "M, N = map(int,input().split())\n",
    "\n",
    "primes = list(range(2, int(N**0.5) + 1))\n",
    "\n",
    "\n",
    "for i in range(3, N + 1):\n",
    "    for p in primes:\n",
    "        if p < i and i % p == 0:\n",
    "            primes.remove(i)\n",
    "            break\n",
    "        \n",
    "\n",
    "\n",
    "for p in primes[k::]:\n",
    "    print(p)"
   ]
  },
  {
   "cell_type": "code",
   "execution_count": 21,
   "id": "02397a6f",
   "metadata": {},
   "outputs": [
    {
     "ename": "ValueError",
     "evalue": "not enough values to unpack (expected 2, got 0)",
     "output_type": "error",
     "traceback": [
      "\u001b[1;31m---------------------------------------------------------------------------\u001b[0m",
      "\u001b[1;31mValueError\u001b[0m                                Traceback (most recent call last)",
      "\u001b[1;32m~\\AppData\\Local\\Temp/ipykernel_26920/3898144452.py\u001b[0m in \u001b[0;36m<module>\u001b[1;34m\u001b[0m\n\u001b[0;32m      2\u001b[0m \u001b[1;33m\u001b[0m\u001b[0m\n\u001b[0;32m      3\u001b[0m \u001b[1;32mimport\u001b[0m \u001b[0msys\u001b[0m\u001b[1;33m\u001b[0m\u001b[1;33m\u001b[0m\u001b[0m\n\u001b[1;32m----> 4\u001b[1;33m \u001b[0mM\u001b[0m\u001b[1;33m,\u001b[0m \u001b[0mN\u001b[0m \u001b[1;33m=\u001b[0m \u001b[0mmap\u001b[0m\u001b[1;33m(\u001b[0m\u001b[0mint\u001b[0m\u001b[1;33m,\u001b[0m\u001b[0msys\u001b[0m\u001b[1;33m.\u001b[0m\u001b[0mstdin\u001b[0m\u001b[1;33m.\u001b[0m\u001b[0mreadline\u001b[0m\u001b[1;33m(\u001b[0m\u001b[1;33m)\u001b[0m\u001b[1;33m.\u001b[0m\u001b[0msplit\u001b[0m\u001b[1;33m(\u001b[0m\u001b[1;33m)\u001b[0m\u001b[1;33m)\u001b[0m\u001b[1;33m\u001b[0m\u001b[1;33m\u001b[0m\u001b[0m\n\u001b[0m\u001b[0;32m      5\u001b[0m \u001b[1;33m\u001b[0m\u001b[0m\n\u001b[0;32m      6\u001b[0m \u001b[1;32mdef\u001b[0m \u001b[0misprime\u001b[0m\u001b[1;33m(\u001b[0m\u001b[0mnum\u001b[0m\u001b[1;33m)\u001b[0m\u001b[1;33m:\u001b[0m\u001b[1;33m\u001b[0m\u001b[1;33m\u001b[0m\u001b[0m\n",
      "\u001b[1;31mValueError\u001b[0m: not enough values to unpack (expected 2, got 0)"
     ]
    }
   ],
   "source": [
    "#1929 소수 구하기\n",
    "\n",
    "import sys\n",
    "M, N = map(int,sys.stdin.readline().split())\n",
    "\n",
    "def isprime(num):\n",
    "    if num == 1:\n",
    "        return False\n",
    "    \n",
    "    for i in range(2, int(num**0.5) + 1):\n",
    "        if num % i == 0:\n",
    "            return False\n",
    "    else:\n",
    "        return True\n",
    "    \n",
    "for i in range(M, N + 1):\n",
    "    if isprime(i):\n",
    "        print(i)"
   ]
  },
  {
   "cell_type": "code",
   "execution_count": 18,
   "id": "88d59d76",
   "metadata": {},
   "outputs": [
    {
     "data": {
      "text/plain": [
       "True"
      ]
     },
     "execution_count": 18,
     "metadata": {},
     "output_type": "execute_result"
    }
   ],
   "source": [
    "4 ** 0.5 % 2 == 0"
   ]
  },
  {
   "cell_type": "code",
   "execution_count": null,
   "id": "31bfbec1",
   "metadata": {},
   "outputs": [],
   "source": []
  },
  {
   "cell_type": "code",
   "execution_count": 8,
   "id": "88143fc8",
   "metadata": {},
   "outputs": [
    {
     "name": "stdout",
     "output_type": "stream",
     "text": [
      "3\n",
      "1 1 1\n",
      "1 3 2\n",
      "2 3 2\n",
      "B\n",
      "B\n",
      "R\n"
     ]
    }
   ],
   "source": [
    "#A 돌무더기 게임 ※\n",
    "import sys\n",
    "\n",
    "N = int(input())\n",
    "result = []\n",
    "     \n",
    "def find_win(nums):\n",
    "    a = 0\n",
    "    while True:\n",
    "        a += 1\n",
    "        nums[2] -= 1; nums[0] -= 1; nums[1] += 1\n",
    "        nums = sorted(nums)\n",
    "        if nums[0] == 0 and nums[1] > 0:\n",
    "            a += 1\n",
    "            nums[2] -= 1; nums[1] -= 1; nums[0] += 1\n",
    "            nums = sorted(nums)\n",
    "        if nums[1] == 0:\n",
    "            return a % 2\n",
    "        \n",
    "for i in range(N):\n",
    "    n = list(map(int,sys.stdin.readline().split()))\n",
    "    n = sorted(n)\n",
    "    result.append(find_win(n))\n",
    "        \n",
    "for r in result:\n",
    "    if r == 1:\n",
    "        print(\"B\")\n",
    "    else:\n",
    "        print(\"R\")\n",
    "    "
   ]
  },
  {
   "cell_type": "code",
   "execution_count": 38,
   "id": "494f09e2",
   "metadata": {},
   "outputs": [
    {
     "name": "stdout",
     "output_type": "stream",
     "text": [
      "5000000\n",
      "1611392\n"
     ]
    }
   ],
   "source": [
    "#2164 카드2\n",
    "\n",
    "def rtrn_nextset(lst):\n",
    "    if len(lst) % 2 == 1:\n",
    "        add_lst = lst[1:len(lst):2]\n",
    "        return [0]+add_lst\n",
    "    else:\n",
    "        return lst[1:len(lst):2]\n",
    "    \n",
    "num = int(input())\n",
    "numlist = list(range(1,num+1))\n",
    "\n",
    "while len(numlist) > 1:\n",
    "    numlist = rtrn_nextset(numlist)\n",
    "    \n",
    "print(numlist[0])"
   ]
  },
  {
   "cell_type": "code",
   "execution_count": 6,
   "id": "bdb2fbe6",
   "metadata": {},
   "outputs": [
    {
     "ename": "ValueError",
     "evalue": "invalid literal for int() with base 10: ''",
     "output_type": "error",
     "traceback": [
      "\u001b[1;31m---------------------------------------------------------------------------\u001b[0m",
      "\u001b[1;31mValueError\u001b[0m                                Traceback (most recent call last)",
      "\u001b[1;32m~\\AppData\\Local\\Temp/ipykernel_16440/3353766514.py\u001b[0m in \u001b[0;36m<module>\u001b[1;34m\u001b[0m\n\u001b[0;32m      3\u001b[0m \u001b[1;32mimport\u001b[0m \u001b[0msys\u001b[0m\u001b[1;33m\u001b[0m\u001b[1;33m\u001b[0m\u001b[0m\n\u001b[0;32m      4\u001b[0m \u001b[1;33m\u001b[0m\u001b[0m\n\u001b[1;32m----> 5\u001b[1;33m \u001b[0mN\u001b[0m \u001b[1;33m=\u001b[0m \u001b[0mint\u001b[0m\u001b[1;33m(\u001b[0m\u001b[0msys\u001b[0m\u001b[1;33m.\u001b[0m\u001b[0mstdin\u001b[0m\u001b[1;33m.\u001b[0m\u001b[0mreadline\u001b[0m\u001b[1;33m(\u001b[0m\u001b[1;33m)\u001b[0m\u001b[1;33m.\u001b[0m\u001b[0mstrip\u001b[0m\u001b[1;33m(\u001b[0m\u001b[1;33m)\u001b[0m\u001b[1;33m)\u001b[0m\u001b[1;33m\u001b[0m\u001b[1;33m\u001b[0m\u001b[0m\n\u001b[0m\u001b[0;32m      6\u001b[0m \u001b[0mlst\u001b[0m \u001b[1;33m=\u001b[0m \u001b[1;33m[\u001b[0m\u001b[1;36m0\u001b[0m\u001b[1;33m]\u001b[0m \u001b[1;33m*\u001b[0m \u001b[1;36m2000001\u001b[0m\u001b[1;33m\u001b[0m\u001b[1;33m\u001b[0m\u001b[0m\n\u001b[0;32m      7\u001b[0m \u001b[1;33m\u001b[0m\u001b[0m\n",
      "\u001b[1;31mValueError\u001b[0m: invalid literal for int() with base 10: ''"
     ]
    }
   ],
   "source": [
    "#2751 수 정렬하기  ※\n",
    "\n",
    "import sys\n",
    "\n",
    "N = int(sys.stdin.readline().strip())\n",
    "lst = [0] * 2000001\n",
    "\n",
    "for i in range(N):\n",
    "    n = int(sys.stdin.readline().strip())\n",
    "    lst[n+1000000] += 1\n",
    "    \n",
    "for ls in lst:\n",
    "    for l in range(ls):\n",
    "        print(lst.index(ls) - 1000000)\n",
    "        lst[lst.index(ls)] = 0"
   ]
  },
  {
   "cell_type": "code",
   "execution_count": 10,
   "id": "68f3cac3",
   "metadata": {},
   "outputs": [
    {
     "name": "stdout",
     "output_type": "stream",
     "text": [
      "7 3\n",
      "<3, 6, 2, 7, 5, 1, 4>\n"
     ]
    }
   ],
   "source": [
    "#11866 요세푸스 문제 0\n",
    "\n",
    "N,K = map(int,input().split())\n",
    "nums = [1]*N\n",
    "yosepus = []\n",
    "\n",
    "cnt = 1\n",
    "gotoK = 0\n",
    "while nums != [0]*N:\n",
    "    for i in range(N):\n",
    "        if nums[i] == cnt:\n",
    "            gotoK += 1\n",
    "            nums[i] += 1\n",
    "            if gotoK == K:\n",
    "                yosepus.append(i+1)\n",
    "                nums[i] = 0\n",
    "                gotoK = 0\n",
    "                break\n",
    "                \n",
    "        if i == N-1:\n",
    "            cnt += 1\n",
    "        \n",
    "print(\"<\", end = \"\")\n",
    "for i in range(len(yosepus)):\n",
    "    if i == len(yosepus)-1:\n",
    "        print(yosepus[i], end = \"\")\n",
    "    else:\n",
    "        print(yosepus[i], end = \", \")\n",
    "print(\">\")"
   ]
  },
  {
   "cell_type": "code",
   "execution_count": 19,
   "id": "d0127901",
   "metadata": {},
   "outputs": [
    {
     "name": "stdout",
     "output_type": "stream",
     "text": [
      "5\n",
      "1 1\n",
      "2 3\n",
      "3 4\n",
      "9 8\n",
      "5 2\n",
      "Case #1: 2\n",
      "Case #2: 5\n",
      "Case #3: 7\n",
      "Case #4: 17\n",
      "Case #5: 7\n"
     ]
    }
   ],
   "source": [
    "#11021 A+B - 7\n",
    "\n",
    "N = int(input())\n",
    "res = []\n",
    "for i in range(N):\n",
    "    a, b = map(int,input().split())\n",
    "    res.append(a+b)\n",
    "    \n",
    "for i in range(len(res)):\n",
    "    print(f'Case #{i+1}: {res[i]}')\n"
   ]
  },
  {
   "cell_type": "code",
   "execution_count": 4,
   "id": "a36a6f00",
   "metadata": {},
   "outputs": [
    {
     "name": "stdout",
     "output_type": "stream",
     "text": [
      "3\n",
      "zzz\n",
      "25818\n"
     ]
    }
   ],
   "source": [
    "#15829 해시 값\n",
    "from string import ascii_lowercase\n",
    "letters = list(ascii_lowercase)\n",
    "\n",
    "N = int(input())\n",
    "strs = input()\n",
    "\n",
    "hashi = 0\n",
    "r = 1\n",
    "M = 1234567891\n",
    "\n",
    "for s in strs:\n",
    "    a = letters.index(s) + 1\n",
    "    hashi += a * r\n",
    "    r *= 31\n",
    "\n",
    "print(hashi % 1234567891)"
   ]
  },
  {
   "cell_type": "code",
   "execution_count": 63,
   "id": "5370931e",
   "metadata": {},
   "outputs": [
    {
     "name": "stdout",
     "output_type": "stream",
     "text": [
      "5\n",
      "-1\n",
      "-2\n",
      "-3\n",
      "-1\n",
      "-2\n",
      "-2\n",
      "-2\n",
      "-1\n",
      "2\n"
     ]
    }
   ],
   "source": [
    "import sys\n",
    "#input = sys.stdin.readline\n",
    "\n",
    "N = int(input())\n",
    "nums = [0]* 8001\n",
    "sm = 0\n",
    "mx = -4000\n",
    "mn = 4000\n",
    "\n",
    "for i in range(N):\n",
    "    num = int(input())\n",
    "    nums[num+4000] += 1\n",
    "    \n",
    "    sm += num\n",
    "\n",
    "med_sum = 0\n",
    "count = 0\n",
    "maxs = [0]\n",
    "a = 0\n",
    "\n",
    "for j in range(len(nums)):\n",
    "    if nums[j] != 0:\n",
    "        med_sum += nums[j]     # 메디안 구하기\n",
    "        if med_sum >= (N + 1)// 2 and a == 0:\n",
    "            a = 1\n",
    "            med = j - 4000\n",
    "            \n",
    "            \n",
    "        if j - 4000 > mx:      # 범위 구하기\n",
    "            mx = j - 4000\n",
    "        if j - 4000 < mn:\n",
    "            mn = j - 4000\n",
    "        \n",
    "        \n",
    "        if nums[j] > count:    #최빈값 구하기\n",
    "            count = nums[j]\n",
    "            del maxs[0]\n",
    "            maxs.append(j-4000)\n",
    "            #print(j - 4000,maxs)\n",
    "        elif nums[j] == count:\n",
    "            #print(j-4000,maxs)\n",
    "            maxs.append(j-4000)\n",
    "\n",
    "maxs.sort()\n",
    "if len(maxs) > 1:\n",
    "    chlqls = maxs[1]\n",
    "else:\n",
    "    chlqls = maxs[0]\n",
    "\n",
    "print(round(sm / N))\n",
    "print(med)\n",
    "print(chlqls)\n",
    "print(mx - mn)"
   ]
  },
  {
   "cell_type": "markdown",
   "id": "9523a722",
   "metadata": {},
   "source": [
    "## 8### "
   ]
  },
  {
   "cell_type": "code",
   "execution_count": 65,
   "id": "84eafbba",
   "metadata": {},
   "outputs": [
    {
     "name": "stdout",
     "output_type": "stream",
     "text": [
      "5\n",
      "1\n",
      "3\n",
      "88\n",
      "-2\n",
      "2\n",
      "18\n",
      "2\n"
     ]
    },
    {
     "ename": "NameError",
     "evalue": "name 'count_array' is not defined",
     "output_type": "error",
     "traceback": [
      "\u001b[1;31m---------------------------------------------------------------------------\u001b[0m",
      "\u001b[1;31mNameError\u001b[0m                                 Traceback (most recent call last)",
      "\u001b[1;32m~\\AppData\\Local\\Temp/ipykernel_137716/2213276405.py\u001b[0m in \u001b[0;36m<module>\u001b[1;34m\u001b[0m\n\u001b[0;32m     14\u001b[0m \u001b[1;33m\u001b[0m\u001b[0m\n\u001b[0;32m     15\u001b[0m \u001b[0mcount_Array\u001b[0m \u001b[1;33m=\u001b[0m \u001b[0mCounter\u001b[0m\u001b[1;33m(\u001b[0m\u001b[0marr\u001b[0m\u001b[1;33m)\u001b[0m\u001b[1;33m.\u001b[0m\u001b[0mmost_common\u001b[0m\u001b[1;33m(\u001b[0m\u001b[1;33m)\u001b[0m\u001b[1;33m\u001b[0m\u001b[1;33m\u001b[0m\u001b[0m\n\u001b[1;32m---> 16\u001b[1;33m \u001b[1;32mif\u001b[0m \u001b[0mlen\u001b[0m\u001b[1;33m(\u001b[0m\u001b[0mcount_array\u001b[0m\u001b[1;33m)\u001b[0m \u001b[1;33m>\u001b[0m \u001b[1;36m1\u001b[0m \u001b[1;32mand\u001b[0m \u001b[0mcount_array\u001b[0m\u001b[1;33m[\u001b[0m\u001b[1;36m0\u001b[0m\u001b[1;33m]\u001b[0m\u001b[1;33m[\u001b[0m\u001b[1;36m1\u001b[0m\u001b[1;33m]\u001b[0m \u001b[1;33m==\u001b[0m \u001b[0mcount_array\u001b[0m\u001b[1;33m[\u001b[0m\u001b[1;36m1\u001b[0m\u001b[1;33m]\u001b[0m\u001b[1;33m[\u001b[0m\u001b[1;36m1\u001b[0m\u001b[1;33m]\u001b[0m\u001b[1;33m:\u001b[0m\u001b[1;33m\u001b[0m\u001b[1;33m\u001b[0m\u001b[0m\n\u001b[0m\u001b[0;32m     17\u001b[0m   \u001b[0mprint\u001b[0m\u001b[1;33m(\u001b[0m\u001b[0mcount_array\u001b[0m\u001b[1;33m[\u001b[0m\u001b[1;36m1\u001b[0m\u001b[1;33m]\u001b[0m\u001b[1;33m[\u001b[0m\u001b[1;36m0\u001b[0m\u001b[1;33m]\u001b[0m\u001b[1;33m)\u001b[0m\u001b[1;33m\u001b[0m\u001b[1;33m\u001b[0m\u001b[0m\n\u001b[0;32m     18\u001b[0m \u001b[1;32melse\u001b[0m\u001b[1;33m:\u001b[0m\u001b[1;33m\u001b[0m\u001b[1;33m\u001b[0m\u001b[0m\n",
      "\u001b[1;31mNameError\u001b[0m: name 'count_array' is not defined"
     ]
    }
   ],
   "source": [
    "import sys\n",
    "from collections import Counter\n",
    "\n",
    "#input = sys.stdin.readline\n",
    "N = int(input())\n",
    "arr = []\n",
    "\n",
    "for _ in range(N):\n",
    "  arr.append(int(input()))\n",
    "\n",
    "arr.sort()\n",
    "print(round(sum(arr) / N))\n",
    "print(arr[N//2])\n",
    "\n",
    "count_Array = Counter(arr).most_common()\n",
    "if len(count_array) > 1 and count_array[0][1] == count_array[1][1]:\n",
    "  print(count_array[1][0])\n",
    "else:\n",
    "  print(count_array[0][0])\n",
    "\n",
    "print(max(arr) - min(arr))"
   ]
  },
  {
   "cell_type": "markdown",
   "id": "07cde0bd",
   "metadata": {},
   "source": [
    "# 1308 D-Day"
   ]
  },
  {
   "cell_type": "code",
   "execution_count": 13,
   "id": "30c890c6",
   "metadata": {},
   "outputs": [
    {
     "name": "stdout",
     "output_type": "stream",
     "text": [
      "1 1 1\n",
      "1001 1 1\n",
      "gg\n"
     ]
    }
   ],
   "source": [
    "def yun_check(year):\n",
    "    if year %  400 == 0:\n",
    "        return True\n",
    "    \n",
    "    elif year % 100 == 0:\n",
    "        return  False\n",
    "    \n",
    "    elif year % 4 == 0:\n",
    "        return True\n",
    "    \n",
    "    else:\n",
    "        return False\n",
    "\n",
    "sy, sm, sd = map(int, input().split())\n",
    "ey, em, ed = map(int, input().split())\n",
    "\n",
    "\n",
    "def day_cal(y1, m1, d1, y2, m2, d2):\n",
    "    days = [31, 28, 31, 30, 31, 30, 31, 31, 30, 31, 30, 31]\n",
    "    dday = 0\n",
    "    \n",
    "    if yun_check(y1) == True:                   # 월, 일자 계산\n",
    "        days[1] = 29\n",
    "        day1 = sum(days[0 : m1-1]) + d1\n",
    "        days[1] = 28\n",
    "    else:\n",
    "        day1 = sum(days[0 : m1-1]) + d1\n",
    "        \n",
    "        \n",
    "    if yun_check(y2) == True:\n",
    "        days[1] = 29\n",
    "        day2 = sum(days[0 : m2-1]) + d2\n",
    "        days[1] = 28\n",
    "    else:\n",
    "        day2 = sum(days[0 : m2-1]) + d2\n",
    "        \n",
    "    \n",
    "    if yun_check(y1) == True:\n",
    "        dday += (366 - day1) + day2\n",
    "    else:\n",
    "        dday += (365 - day1) + day2         \n",
    "    \n",
    "    \n",
    "    if y2 > y1 + 1000 or y2 == y1 + 1000 and day2 >= day1:\n",
    "        return 'gg'\n",
    "    \n",
    "    for y in range(y1 + 1, y2):\n",
    "        if yun_check(y) == True:\n",
    "            dday += 366\n",
    "        else:\n",
    "            dday += 365\n",
    "        \n",
    "    return dday\n",
    "\n",
    "result = day_cal(sy, sm, sd, ey, em, ed)\n",
    "\n",
    "if result == 'gg':\n",
    "    print('gg')\n",
    "else:\n",
    "    print(f'D-{result}')"
   ]
  },
  {
   "cell_type": "code",
   "execution_count": 10,
   "id": "dad4ef51",
   "metadata": {},
   "outputs": [
    {
     "name": "stdout",
     "output_type": "stream",
     "text": [
      "2000 10 21\n",
      "2008 3 28\n",
      "D-2715\n"
     ]
    }
   ],
   "source": [
    "import datetime\n",
    "\n",
    "this_year,this_month,this_day = map(int,input().split())\n",
    "d_year,d_month,d_day = map(int,input().split())\n",
    "\n",
    "today = datetime.datetime(this_year,this_month,this_day)\n",
    "target_day = datetime.datetime(d_year,d_month,d_day)\n",
    "\n",
    "dday=target_day - today\n",
    "\n",
    "if dday.days >=365243:\n",
    "  print(\"gg\")\n",
    "else:\n",
    "  print(\"D-\"+str(dday.days))"
   ]
  },
  {
   "cell_type": "markdown",
   "id": "497adfa2",
   "metadata": {},
   "source": [
    "# 1075 나누기"
   ]
  },
  {
   "cell_type": "code",
   "execution_count": 23,
   "id": "ea05964a",
   "metadata": {},
   "outputs": [
    {
     "name": "stdout",
     "output_type": "stream",
     "text": [
      "428392\n",
      "17\n",
      "15\n"
     ]
    }
   ],
   "source": [
    "N = int(input())\n",
    "F = int(input())\n",
    "\n",
    "N = N // 100 * 100\n",
    "\n",
    "for n in range(N, N+100):\n",
    "    if n % F == 0:\n",
    "        print(str(n)[-2:])\n",
    "        break\n"
   ]
  },
  {
   "cell_type": "markdown",
   "id": "ee870c4a",
   "metadata": {},
   "source": [
    "# 1193 분수 찾기"
   ]
  },
  {
   "cell_type": "code",
   "execution_count": 79,
   "id": "1b0aacc2",
   "metadata": {},
   "outputs": [
    {
     "name": "stdout",
     "output_type": "stream",
     "text": [
      "14\n",
      "2/4\n"
     ]
    }
   ],
   "source": [
    "N = int(input())\n",
    "a = N\n",
    "count = 0\n",
    "time = 0\n",
    "while 1:\n",
    "    time += 1\n",
    "    count += 1\n",
    "    N -= count\n",
    "    \n",
    "    if N >= 0 and N <= count + 1:\n",
    "        break\n",
    "        \n",
    "if time % 2 == 0:\n",
    "    print(f'{time - N + 2}/{N}')\n",
    "else:\n",
    "    if a == 1:\n",
    "        print('1/1')\n",
    "    else:\n",
    "        print(f'{N}/{time - N+2}')"
   ]
  },
  {
   "cell_type": "markdown",
   "id": "ecf3008e",
   "metadata": {},
   "source": [
    "# 1676 팩토리얼 0의 갯수"
   ]
  },
  {
   "cell_type": "code",
   "execution_count": 87,
   "id": "a55e1c1f",
   "metadata": {},
   "outputs": [
    {
     "name": "stdout",
     "output_type": "stream",
     "text": [
      "3\n",
      "0\n"
     ]
    }
   ],
   "source": [
    "N = int(input())\n",
    "fact = 1\n",
    "\n",
    "for i in range(1,N+1):\n",
    "    fact *= i\n",
    "    \n",
    "fact = list(str(fact))[::-1]\n",
    "\n",
    "for i in range(len(fact)):\n",
    "    if fact[i] != '0':\n",
    "        print(i)\n",
    "        break"
   ]
  },
  {
   "cell_type": "markdown",
   "id": "fed9c35b",
   "metadata": {},
   "source": [
    "# 1418 K-세준수"
   ]
  },
  {
   "cell_type": "code",
   "execution_count": 8,
   "id": "fd2b78fa",
   "metadata": {},
   "outputs": [
    {
     "name": "stdout",
     "output_type": "stream",
     "text": [
      "100000\n",
      "100\n",
      "17442\n"
     ]
    }
   ],
   "source": [
    "import sys\n",
    "#input = sys.stdin.readline\n",
    "\n",
    "N = int(input())\n",
    "K = int(input())\n",
    "count = 0\n",
    "\n",
    "def prime_check(num):\n",
    "    for i in range(2,num):\n",
    "        if num % i == 0:\n",
    "            return False\n",
    "    return True\n",
    "\n",
    "primes = []\n",
    "for i in range(2, K + 1):\n",
    "    if prime_check(i) == True:\n",
    "        primes.append(i)\n",
    "        \n",
    "for n in range(1,N+1):\n",
    "    for p in primes:\n",
    "        while n % p == 0:\n",
    "            n /= p\n",
    "    \n",
    "    if n <= K:\n",
    "        count += 1\n",
    "        \n",
    "print(count)\n"
   ]
  },
  {
   "cell_type": "markdown",
   "id": "3cce8773",
   "metadata": {},
   "source": [
    "# "
   ]
  }
 ],
 "metadata": {
  "kernelspec": {
   "display_name": "Python 3 (ipykernel)",
   "language": "python",
   "name": "python3"
  },
  "language_info": {
   "codemirror_mode": {
    "name": "ipython",
    "version": 3
   },
   "file_extension": ".py",
   "mimetype": "text/x-python",
   "name": "python",
   "nbconvert_exporter": "python",
   "pygments_lexer": "ipython3",
   "version": "3.9.7"
  }
 },
 "nbformat": 4,
 "nbformat_minor": 5
}
