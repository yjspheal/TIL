{
 "cells": [
  {
   "cell_type": "markdown",
   "id": "1b57d6b9",
   "metadata": {},
   "source": [
    "https://www.acmicpc.net/problem/2941"
   ]
  },
  {
   "cell_type": "code",
   "execution_count": null,
   "id": "7a060499",
   "metadata": {},
   "outputs": [],
   "source": [
    "#2941 크로아티아 알파벳\n",
    "\n",
    "# List of Croatian alphabet patterns\n",
    "cro = [\"c=\", \"c-\", \"d-\", \"s=\", \"z=\", \"dz=\", \"lj\", \"nj\"]\n",
    "\n",
    "# Input a string to analyze\n",
    "S = input()\n",
    "\n",
    "i = 0  # Initialize index for string traversal\n",
    "count = 0  # Initialize count for the number of Croatian alphabet patterns found\n",
    "\n",
    "# Loop through the string\n",
    "while i < len(S):\n",
    "    if S[i:(i+3)] == \"dz=\":  # Check for special case \"dz=\"\n",
    "        i += 3  # Move index by 3 to skip the \"dz=\"\n",
    "        count += 1  # Increment count\n",
    "    elif S[i:i+2] in cro:  # Check if a two-character pattern exists in the Croatian alphabet list\n",
    "        i += 2  # Move index by 2 to skip the two-character pattern\n",
    "        count += 1  # Increment count\n",
    "    else:\n",
    "        i += 1  # Move index by 1\n",
    "        count += 1  # Increment count for individual characters\n",
    "\n",
    "# Output the total count of Croatian alphabet patterns\n",
    "print(count)"
   ]
  }
 ],
 "metadata": {
  "kernelspec": {
   "display_name": "Python 3 (ipykernel)",
   "language": "python",
   "name": "python3"
  },
  "language_info": {
   "codemirror_mode": {
    "name": "ipython",
    "version": 3
   },
   "file_extension": ".py",
   "mimetype": "text/x-python",
   "name": "python",
   "nbconvert_exporter": "python",
   "pygments_lexer": "ipython3",
   "version": "3.9.7"
  }
 },
 "nbformat": 4,
 "nbformat_minor": 5
}
