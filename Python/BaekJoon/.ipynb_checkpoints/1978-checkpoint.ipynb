{
 "cells": [
  {
   "cell_type": "markdown",
   "id": "43e7c579",
   "metadata": {},
   "source": [
    "https://www.acmicpc.net/problem/1978"
   ]
  },
  {
   "cell_type": "code",
   "execution_count": null,
   "id": "76b704da",
   "metadata": {},
   "outputs": [],
   "source": [
    "#1978 소수 찾기\n",
    "\n",
    "# Get the count of numbers and the list of numbers as input\n",
    "count = int(input(\"Enter the count of numbers: \"))\n",
    "nums = input(\"Enter the numbers separated by spaces: \").split()\n",
    "\n",
    "# Initialize an empty list to store prime numbers\n",
    "prime_list = []\n",
    "\n",
    "# Initialize a counter for prime numbers\n",
    "primecount = 0\n",
    "\n",
    "# Function to check if a number is prime\n",
    "def find_prime(n):\n",
    "    if n == 1:\n",
    "        return False\n",
    "    \n",
    "    # Check divisibility from 2 to n-1\n",
    "    for i in range(2, n):\n",
    "        if n % i == 0:\n",
    "            return False\n",
    "        \n",
    "    return True\n",
    "\n",
    "# Iterate through the list of numbers\n",
    "for i in nums:\n",
    "    if find_prime(int(i)):  # Check if the number is prime\n",
    "        primecount += 1  # Increment the prime count\n",
    "\n",
    "# Print the count of prime numbers found\n",
    "print(\"Count of prime numbers:\", primecount)\n"
   ]
  }
 ],
 "metadata": {
  "kernelspec": {
   "display_name": "Python 3 (ipykernel)",
   "language": "python",
   "name": "python3"
  },
  "language_info": {
   "codemirror_mode": {
    "name": "ipython",
    "version": 3
   },
   "file_extension": ".py",
   "mimetype": "text/x-python",
   "name": "python",
   "nbconvert_exporter": "python",
   "pygments_lexer": "ipython3",
   "version": "3.9.7"
  }
 },
 "nbformat": 4,
 "nbformat_minor": 5
}
