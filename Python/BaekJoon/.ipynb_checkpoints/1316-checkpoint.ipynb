{
 "cells": [
  {
   "cell_type": "markdown",
   "id": "66a35d24",
   "metadata": {},
   "source": [
    "https://www.acmicpc.net/problem/1316"
   ]
  },
  {
   "cell_type": "code",
   "execution_count": null,
   "id": "ba5dcf08",
   "metadata": {},
   "outputs": [],
   "source": [
    "#1316 그룹 단어 체커\n",
    "\n",
    "# Get the number of strings as input\n",
    "N = int(input(\"Enter the number of strings: \"))\n",
    "\n",
    "# Initialize an empty list to store the input strings\n",
    "Strings = []\n",
    "\n",
    "# Initialize a variable to store the result\n",
    "res = 0\n",
    "\n",
    "# Loop to input the strings\n",
    "for i in range(N):\n",
    "    S = list(input(\"Enter a string: \"))  # Convert the input string into a list of characters\n",
    "    Strings.append(S)  # Append the list of characters to the Strings list\n",
    "\n",
    "# Function to create a new list with consecutive duplicate characters removed\n",
    "def let_set(strn):\n",
    "    ret_str = list(strn[0])  # Initialize the return list with the first character\n",
    "    \n",
    "    for i in range(len(strn) - 1):\n",
    "        if strn[i] != strn[i+1]:\n",
    "            ret_str.append(strn[i+1])  # Append the character if it's different from the previous one\n",
    "            \n",
    "    return ret_str\n",
    "\n",
    "# Loop through the list of strings\n",
    "for Strs in Strings:\n",
    "    if len(set(Strs)) == len(let_set(Strs)):\n",
    "        res += 1  # Increment the result if the length of the set matches the length of the modified string\n",
    "\n",
    "# Print the final result\n",
    "print(\"Number of strings satisfying the condition:\", res)"
   ]
  }
 ],
 "metadata": {
  "kernelspec": {
   "display_name": "Python 3 (ipykernel)",
   "language": "python",
   "name": "python3"
  },
  "language_info": {
   "codemirror_mode": {
    "name": "ipython",
    "version": 3
   },
   "file_extension": ".py",
   "mimetype": "text/x-python",
   "name": "python",
   "nbconvert_exporter": "python",
   "pygments_lexer": "ipython3",
   "version": "3.9.7"
  }
 },
 "nbformat": 4,
 "nbformat_minor": 5
}
