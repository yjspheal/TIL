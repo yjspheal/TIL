{
 "cells": [
  {
   "cell_type": "markdown",
   "id": "7d7e40de",
   "metadata": {},
   "source": [
    "https://www.acmicpc.net/problem/11653"
   ]
  },
  {
   "cell_type": "code",
   "execution_count": null,
   "id": "1a984452",
   "metadata": {},
   "outputs": [],
   "source": [
    "#11653 소인수분해\n",
    "\n",
    "N = int(input())  # Input: an integer N\n",
    "\n",
    "# Loop through possible factors from 2 to N (inclusive)\n",
    "for i in range(2, N + 1):\n",
    "    while N % i == 0:  # While N is divisible by i\n",
    "        print(i)  # Output the factor i\n",
    "        N /= i  # Divide N by i to simplify it\n",
    "    if N == 1:  # If N becomes 1, all prime factors are found\n",
    "        break  # Exit the loop\n",
    "\n",
    "# The code prints out the prime factorization of N"
   ]
  }
 ],
 "metadata": {
  "kernelspec": {
   "display_name": "Python 3 (ipykernel)",
   "language": "python",
   "name": "python3"
  },
  "language_info": {
   "codemirror_mode": {
    "name": "ipython",
    "version": 3
   },
   "file_extension": ".py",
   "mimetype": "text/x-python",
   "name": "python",
   "nbconvert_exporter": "python",
   "pygments_lexer": "ipython3",
   "version": "3.9.7"
  }
 },
 "nbformat": 4,
 "nbformat_minor": 5
}
