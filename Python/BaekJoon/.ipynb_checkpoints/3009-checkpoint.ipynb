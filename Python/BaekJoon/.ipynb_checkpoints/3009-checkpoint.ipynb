{
 "cells": [
  {
   "cell_type": "markdown",
   "id": "425b653c",
   "metadata": {},
   "source": [
    "https://www.acmicpc.net/problem/3009"
   ]
  },
  {
   "cell_type": "code",
   "execution_count": null,
   "id": "2239ba37",
   "metadata": {},
   "outputs": [],
   "source": [
    "#3009 네 번째 점\n",
    "\n",
    "# Initialize empty lists to store x and y coordinates\n",
    "x_list = []\n",
    "y_list = []\n",
    "\n",
    "# Loop to input coordinates\n",
    "for i in range(3):\n",
    "    x, y = input(\"Enter x and y coordinates: \").split()\n",
    "    x_list.append(x)  # Append x coordinate to the list\n",
    "    y_list.append(y)  # Append y coordinate to the list\n",
    "\n",
    "# Loop to find the unique x and y coordinates\n",
    "for x in x_list:\n",
    "    if x_list.count(x) == 1:\n",
    "        target_x = x  # Store the unique x coordinate\n",
    "\n",
    "for y in y_list:\n",
    "    if y_list.count(y) == 1:\n",
    "        target_y = y  # Store the unique y coordinate\n",
    "\n",
    "# Print the fourth point's coordinates\n",
    "print(f'The fourth point is at: {target_x} {target_y}')"
   ]
  },
  {
   "cell_type": "code",
   "execution_count": null,
   "id": "3d203419",
   "metadata": {},
   "outputs": [],
   "source": []
  }
 ],
 "metadata": {
  "kernelspec": {
   "display_name": "Python 3 (ipykernel)",
   "language": "python",
   "name": "python3"
  },
  "language_info": {
   "codemirror_mode": {
    "name": "ipython",
    "version": 3
   },
   "file_extension": ".py",
   "mimetype": "text/x-python",
   "name": "python",
   "nbconvert_exporter": "python",
   "pygments_lexer": "ipython3",
   "version": "3.9.7"
  }
 },
 "nbformat": 4,
 "nbformat_minor": 5
}
