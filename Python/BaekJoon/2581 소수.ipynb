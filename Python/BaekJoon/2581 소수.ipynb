{
 "cells": [
  {
   "cell_type": "markdown",
   "id": "cbc5e8c8",
   "metadata": {},
   "source": [
    "https://www.acmicpc.net/problem/2581"
   ]
  },
  {
   "cell_type": "code",
   "execution_count": null,
   "id": "169ccc96",
   "metadata": {},
   "outputs": [],
   "source": [
    "#2581 소수\n",
    "\n",
    "# Get input for two integer values\n",
    "n1 = int(input())  # Receive the first integer input\n",
    "n2 = int(input())  # Receive the second integer input\n",
    "\n",
    "# Initialize an empty list to store prime numbers\n",
    "prime_list = []\n",
    "\n",
    "# Function to check if a number is prime\n",
    "def find_prime(n):\n",
    "    if n == 1:\n",
    "        return False\n",
    "    \n",
    "    # Check divisibility from 2 to n-1\n",
    "    for i in range(2, n):\n",
    "        if n % i == 0:\n",
    "            return False\n",
    "        \n",
    "    return True\n",
    "\n",
    "# Iterate through the range of numbers from n1 to n2 (inclusive)\n",
    "for i in range(n1, n2 + 1):\n",
    "    if find_prime(i):\n",
    "        prime_list.append(i)\n",
    "\n",
    "# Check if any prime numbers were found\n",
    "if not prime_list:\n",
    "    print(-1)  # No prime numbers found\n",
    "else:\n",
    "    print(sum(prime_list))  # Print the sum of prime numbers\n",
    "    print(prime_list[0])    # Print the first prime number in the list"
   ]
  }
 ],
 "metadata": {
  "kernelspec": {
   "display_name": "Python 3 (ipykernel)",
   "language": "python",
   "name": "python3"
  },
  "language_info": {
   "codemirror_mode": {
    "name": "ipython",
    "version": 3
   },
   "file_extension": ".py",
   "mimetype": "text/x-python",
   "name": "python",
   "nbconvert_exporter": "python",
   "pygments_lexer": "ipython3",
   "version": "3.9.7"
  }
 },
 "nbformat": 4,
 "nbformat_minor": 5
}
