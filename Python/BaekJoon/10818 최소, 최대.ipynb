{
 "cells": [
  {
   "cell_type": "markdown",
   "id": "7b854ba1",
   "metadata": {},
   "source": [
    "https://www.acmicpc.net/problem/10818"
   ]
  },
  {
   "cell_type": "code",
   "execution_count": null,
   "id": "41c167f9",
   "metadata": {},
   "outputs": [],
   "source": [
    "#10818 최소, 최대\n",
    "\n",
    "n = int(input())\n",
    "nums = map(int,input().split())\n",
    "nums = list(nums)\n",
    "\n",
    "print(f'{min(nums)} {max(nums)}')"
   ]
  }
 ],
 "metadata": {
  "kernelspec": {
   "display_name": "Python 3 (ipykernel)",
   "language": "python",
   "name": "python3"
  },
  "language_info": {
   "codemirror_mode": {
    "name": "ipython",
    "version": 3
   },
   "file_extension": ".py",
   "mimetype": "text/x-python",
   "name": "python",
   "nbconvert_exporter": "python",
   "pygments_lexer": "ipython3",
   "version": "3.9.7"
  }
 },
 "nbformat": 4,
 "nbformat_minor": 5
}
