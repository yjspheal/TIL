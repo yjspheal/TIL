{
 "cells": [
  {
   "cell_type": "code",
   "execution_count": null,
   "id": "095bcee0",
   "metadata": {},
   "outputs": [],
   "source": [
    "Set-ExecutionPolicy -Scope Process -ExecutionPolicy RemoteSigned\n",
    ".\\.venv_sql\\Scripts\\Activate.ps1"
   ]
  },
  {
   "cell_type": "code",
   "execution_count": 1,
   "id": "03797357",
   "metadata": {},
   "outputs": [],
   "source": [
    "%load_ext sql\n"
   ]
  },
  {
   "cell_type": "code",
   "execution_count": 3,
   "id": "ed730882",
   "metadata": {},
   "outputs": [
    {
     "data": {
      "text/html": [
       "<span style=\"None\">Connecting to &#x27;sqlite:///./test.db&#x27;</span>"
      ],
      "text/plain": [
       "Connecting to 'sqlite:///./test.db'"
      ]
     },
     "metadata": {},
     "output_type": "display_data"
    }
   ],
   "source": [
    "%sql sqlite:///./test.db\n"
   ]
  },
  {
   "cell_type": "code",
   "execution_count": 5,
   "id": "d88e3dca",
   "metadata": {},
   "outputs": [
    {
     "data": {
      "text/html": [
       "<span style=\"None\">Running query in &#x27;sqlite:///./test.db&#x27;</span>"
      ],
      "text/plain": [
       "Running query in 'sqlite:///./test.db'"
      ]
     },
     "metadata": {},
     "output_type": "display_data"
    },
    {
     "data": {
      "text/html": [
       "<span style=\"color: green\">2 rows affected.</span>"
      ],
      "text/plain": [
       "2 rows affected."
      ]
     },
     "metadata": {},
     "output_type": "display_data"
    },
    {
     "data": {
      "text/html": [
       "<table>\n",
       "    <thead>\n",
       "        <tr>\n",
       "            <th>id</th>\n",
       "            <th>name</th>\n",
       "        </tr>\n",
       "    </thead>\n",
       "    <tbody>\n",
       "        <tr>\n",
       "            <td>1</td>\n",
       "            <td>Alice</td>\n",
       "        </tr>\n",
       "        <tr>\n",
       "            <td>2</td>\n",
       "            <td>Bob</td>\n",
       "        </tr>\n",
       "    </tbody>\n",
       "</table>"
      ],
      "text/plain": [
       "+----+-------+\n",
       "| id |  name |\n",
       "+----+-------+\n",
       "| 1  | Alice |\n",
       "| 2  |  Bob  |\n",
       "+----+-------+"
      ]
     },
     "execution_count": 5,
     "metadata": {},
     "output_type": "execute_result"
    }
   ],
   "source": [
    "%%sql\n",
    "CREATE TABLE IF NOT EXISTS users (\n",
    "    id   INTEGER PRIMARY KEY,\n",
    "    name TEXT\n",
    ");\n",
    "\n",
    "INSERT INTO users (name) VALUES ('Alice'), ('Bob');\n",
    "\n",
    "SELECT * FROM users;\n"
   ]
  },
  {
   "cell_type": "code",
   "execution_count": null,
   "id": "dc1feda8",
   "metadata": {},
   "outputs": [],
   "source": []
  }
 ],
 "metadata": {
  "kernelspec": {
   "display_name": "Python (sqlenv)",
   "language": "python",
   "name": "sqlenv"
  },
  "language_info": {
   "codemirror_mode": {
    "name": "ipython",
    "version": 3
   },
   "file_extension": ".py",
   "mimetype": "text/x-python",
   "name": "python",
   "nbconvert_exporter": "python",
   "pygments_lexer": "ipython3",
   "version": "3.13.3"
  }
 },
 "nbformat": 4,
 "nbformat_minor": 5
}
